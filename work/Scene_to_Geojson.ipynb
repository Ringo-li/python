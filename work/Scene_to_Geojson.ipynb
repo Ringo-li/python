{
 "cells": [
  {
   "cell_type": "code",
   "execution_count": 2,
   "metadata": {},
   "outputs": [],
   "source": [
    "import os\n",
    "import xmltodict\n",
    "import json"
   ]
  },
  {
   "cell_type": "code",
   "execution_count": 7,
   "metadata": {},
   "outputs": [],
   "source": [
    "os.chdir('D:\\\\company\\\\Work_log\\\\2022\\\\2022-06\\\\数据转换')"
   ]
  },
  {
   "cell_type": "code",
   "execution_count": 48,
   "metadata": {},
   "outputs": [],
   "source": [
    "class Scene(object):\n",
    "    def __init__(self, input_file):\n",
    "        self.input_file = input_file.split('.')[0]\n",
    "        self.geojson = {\n",
    "            \"type\": \"MultiLineString\", \n",
    "            \"coordinates\": []\n",
    "        }\n",
    "    \n",
    "    def read_to_json(self):\n",
    "        with open(self.input_file+'.scene', 'r', encoding='utf-8') as data:\n",
    "            xml = xmltodict.parse(data.read())\n",
    "            str_data = json.dumps(xml)\n",
    "            json_data = json.loads(str_data)\n",
    "        return json_data\n",
    "    \n",
    "    def get_coordinates(self, coordinates = []):\n",
    "        json_data = self.read_to_json()\n",
    "        polyline = json_data['Scene']['Scene3D']['polyline']\n",
    "\n",
    "        try:\n",
    "            result = self.vertice_to_coor(polyline)\n",
    "            coordinates.append(result)\n",
    "        except:\n",
    "            for i in  polyline:\n",
    "                result = self.vertice_to_coor(i)\n",
    "                coordinates.append(result)\n",
    "        return coordinates\n",
    "     \n",
    "    def write_to_json(self):\n",
    "        coordinates = self.get_coordinates()\n",
    "        self.geojson['coordinates'] = coordinates\n",
    "        geojson_data = json.dumps(self.geojson)\n",
    "\n",
    "        with open(self.input_file+'.json', \"w\") as json_file:\n",
    "            json_file.write(geojson_data)\n",
    "    \n",
    "    def vertice_to_coor(self, polyline, result=[]):\n",
    "        vertices = polyline['vertices'].replace(',','').replace(' ',', ')\n",
    "        for vertice in vertices.split('\\n'):\n",
    "            tmp = []\n",
    "            for coor in vertice.split(','):\n",
    "                coor = float(coor)\n",
    "                tmp.append(coor)\n",
    "            result.append(tmp)\n",
    "        return result\n"
   ]
  },
  {
   "cell_type": "code",
   "execution_count": 49,
   "metadata": {},
   "outputs": [
    {
     "name": "stdout",
     "output_type": "stream",
     "text": [
      "100海里警戒区-线.scene, begin transfrom...\n",
      "24海里警戒区-线.scene, begin transfrom...\n",
      "一岛链.scene, begin transfrom...\n",
      "二岛链.scene, begin transfrom...\n",
      "海上监控区-线.scene, begin transfrom...\n",
      "领海基线.scene, begin transfrom...\n"
     ]
    }
   ],
   "source": [
    "if __name__ == \"__main__\":\n",
    "    for i in os.listdir():\n",
    "        if i.split('.')[1] == 'scene':\n",
    "            print(i+', begin transfrom...')\n",
    "            ob = Scene(i)\n",
    "            ob.write_to_json()"
   ]
  },
  {
   "cell_type": "code",
   "execution_count": null,
   "metadata": {},
   "outputs": [],
   "source": []
  },
  {
   "cell_type": "code",
   "execution_count": null,
   "metadata": {},
   "outputs": [],
   "source": []
  }
 ],
 "metadata": {
  "kernelspec": {
   "display_name": "Python 3",
   "language": "python",
   "name": "python3"
  },
  "language_info": {
   "codemirror_mode": {
    "name": "ipython",
    "version": 3
   },
   "file_extension": ".py",
   "mimetype": "text/x-python",
   "name": "python",
   "nbconvert_exporter": "python",
   "pygments_lexer": "ipython3",
   "version": "3.7.4"
  }
 },
 "nbformat": 4,
 "nbformat_minor": 2
}
