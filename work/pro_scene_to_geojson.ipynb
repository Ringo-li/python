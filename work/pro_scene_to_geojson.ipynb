{
 "cells": [
  {
   "cell_type": "code",
   "execution_count": 1,
   "metadata": {},
   "outputs": [],
   "source": [
    "import os\n",
    "import xmltodict\n",
    "import json"
   ]
  },
  {
   "cell_type": "code",
   "execution_count": 2,
   "metadata": {},
   "outputs": [
    {
     "data": {
      "text/plain": [
       "'C:\\\\Users\\\\Ringo'"
      ]
     },
     "execution_count": 2,
     "metadata": {},
     "output_type": "execute_result"
    }
   ],
   "source": [
    "os.getcwd()"
   ]
  },
  {
   "cell_type": "code",
   "execution_count": 73,
   "metadata": {},
   "outputs": [
    {
     "data": {
      "text/plain": [
       "['100海里警戒区-线.json',\n",
       " '100海里警戒区-线.scene',\n",
       " '24海里警戒区-线.json',\n",
       " '24海里警戒区-线.scene',\n",
       " 'TargetList.xlsx',\n",
       " 'TargetList.xml',\n",
       " '一岛链 - 副本.xml',\n",
       " '一岛链.json',\n",
       " '一岛链.scene',\n",
       " '二岛链.json',\n",
       " '二岛链.scene',\n",
       " '海上监控区-线.json',\n",
       " '海上监控区-线.scene',\n",
       " '西南沙我控.scene.bak',\n",
       " '领海基线.json',\n",
       " '领海基线.scene']"
      ]
     },
     "execution_count": 73,
     "metadata": {},
     "output_type": "execute_result"
    }
   ],
   "source": [
    "os.chdir('D:\\\\company\\\\Work_log\\\\2022\\\\2022-06\\\\数据转换')\n",
    "os.listdir()"
   ]
  },
  {
   "cell_type": "code",
   "execution_count": 74,
   "metadata": {},
   "outputs": [],
   "source": [
    "def scene_to_geojson(input_file):\n",
    "    input_file = input_file.split('.')[0]\n",
    "    geojson = {\n",
    "        \"type\": \"MultiLineString\", \n",
    "        \"coordinates\": []\n",
    "    }\n",
    "    with open(input_file+'.scene', 'r', encoding='utf-8') as data:\n",
    "        xml = xmltodict.parse(data.read())\n",
    "        str_data = json.dumps(xml)\n",
    "        json_data = json.loads(str_data)\n",
    "        \n",
    "    coordinates = []\n",
    "    polyline = json_data['Scene']['Scene3D']['polyline']\n",
    "    try:\n",
    "        if polyline.keys():\n",
    "            vertices = polyline['vertices'].replace(',','').replace(' ',', ')\n",
    "            result = []\n",
    "            for vertice in vertices.split('\\n'):\n",
    "                tmp = []\n",
    "                for coor in vertice.split(','):\n",
    "                    coor = float(coor)\n",
    "                    tmp.append(coor)\n",
    "                result.append(tmp)\n",
    "            coordinates.append(result)\n",
    "    except:\n",
    "        for i in  polyline:\n",
    "            vertices = i['vertices'].replace(',','').replace(' ',', ')\n",
    "            result = []\n",
    "            for vertice in vertices.split('\\n'):\n",
    "                tmp = []\n",
    "                for coor in vertice.split(','):\n",
    "                    coor = float(coor)\n",
    "                    tmp.append(coor)\n",
    "                result.append(tmp)\n",
    "        #     print(result)\n",
    "            coordinates.append(result)\n",
    "        \n",
    "    geojson['coordinates'] = coordinates\n",
    "    geojson_data = json.dumps(geojson)\n",
    "    \n",
    "    with open(input_file+'.json', \"w\") as json_file:\n",
    "        json_file.write(geojson_data)"
   ]
  },
  {
   "cell_type": "code",
   "execution_count": 76,
   "metadata": {},
   "outputs": [
    {
     "name": "stdout",
     "output_type": "stream",
     "text": [
      "100海里警戒区-线.scenebegin transfrom...\n",
      "24海里警戒区-线.scenebegin transfrom...\n",
      "一岛链.scenebegin transfrom...\n",
      "二岛链.scenebegin transfrom...\n",
      "海上监控区-线.scenebegin transfrom...\n",
      "领海基线.scenebegin transfrom...\n"
     ]
    }
   ],
   "source": [
    "for i in os.listdir():\n",
    "    if i.split('.')[1] == 'scene':\n",
    "        print(i+'begin transfrom...')\n",
    "        scene_to_geojson(i)"
   ]
  },
  {
   "cell_type": "code",
   "execution_count": 57,
   "metadata": {},
   "outputs": [],
   "source": [
    "with open('领海基线.scene', 'r', encoding='utf-8') as data:\n",
    "    xml = xmltodict.parse(data.read())\n",
    "    str_data = json.dumps(xml)\n",
    "    json_data = json.loads(str_data)"
   ]
  },
  {
   "cell_type": "code",
   "execution_count": 58,
   "metadata": {},
   "outputs": [
    {
     "name": "stdout",
     "output_type": "stream",
     "text": [
      "Scene3D\n"
     ]
    }
   ],
   "source": [
    "for i in json_data['Scene']:\n",
    "    print(i)"
   ]
  },
  {
   "cell_type": "code",
   "execution_count": 59,
   "metadata": {
    "scrolled": true
   },
   "outputs": [
    {
     "name": "stdout",
     "output_type": "stream",
     "text": [
      "dict_keys(['uuid', 'name', 'visible', 'style', 'vertices', 'isdrawwall', 'isinterpoint'])\n"
     ]
    }
   ],
   "source": [
    "print(json_data['Scene']['Scene3D']['polyline'].keys())"
   ]
  },
  {
   "cell_type": "code",
   "execution_count": 61,
   "metadata": {},
   "outputs": [
    {
     "name": "stdout",
     "output_type": "stream",
     "text": [
      "7\n",
      "[[[122.705, 37.4, 0.0], [122.705, 37.395, 0.0], [122.57, 36.963333, 0.0], [122.545, 36.918333, 0.0], [122.51833, 36.895, 0.0], [122.26333, 36.746667, 0.0], [120.885, 35.893333, 0.0], [119.90333, 35.003333, 0.0], [121.34667, 33.363333, 0.0], [121.64, 33.015, 0.0], [122.24333, 31.421667, 0.0], [123.15667, 30.735, 0.0], [123.16167, 30.725, 0.0], [122.945, 30.168333, 0.0], [122.275, 28.888333, 0.0], [121.91667, 28.398333, 0.0], [121.91167, 28.391667, 0.0], [121.13, 27.465, 0.0], [120.50667, 26.376667, 0.0], [120.405, 26.156667, 0.0], [119.93833, 25.43, 0.0], [119.47833, 24.976667, 0.0], [118.23667, 24.161667, 0.0], [117.68833, 23.531667, 0.0], [117.24833, 23.215, 0.0], [117.23167, 23.205, 0.0], [116.495, 22.935, 0.0], [115.125, 22.315, 0.0], [113.96667, 21.808333, 0.0], [112.79833, 21.568333, 0.0], [112.35833, 21.461667, 0.0], [111.27333, 19.975, 0.0], [111.21333, 19.883333, 0.0], [110.49333, 18.661667, 0.0], [110.485, 18.656667, 0.0], [110.14, 18.435, 0.0], [110.05, 18.383333, 0.0], [109.70167, 18.183333, 0.0], [109.69667, 18.183333, 0.0], [109.57333, 18.158333, 0.0], [109.12667, 18.243333, 0.0], [108.95167, 18.321667, 0.0], [108.68833, 18.503333, 0.0], [108.685, 18.506667, 0.0], [108.67667, 18.516667, 0.0], [108.675, 18.518333, 0.0], [108.62167, 18.841667, 0.0], [108.6, 19.193333, 0.0], [108.64333, 19.351667, 0.0]]]\n"
     ]
    }
   ],
   "source": [
    "coordinates = []\n",
    "polyline = json_data['Scene']['Scene3D']['polyline']\n",
    "print(len(polyline))\n",
    "vertices = polyline['vertices'].replace(',','').replace(' ',', ')\n",
    "result = []\n",
    "for vertice in vertices.split('\\n'):\n",
    "    tmp = []\n",
    "    for coor in vertice.split(','):\n",
    "        coor = float(coor)\n",
    "        tmp.append(coor)\n",
    "    result.append(tmp)\n",
    "#     print(result)\n",
    "coordinates.append(result)\n",
    "print(coordinates)"
   ]
  },
  {
   "cell_type": "code",
   "execution_count": 32,
   "metadata": {},
   "outputs": [],
   "source": [
    "geojson = {\n",
    "    \"type\": \"MultiLineString\", \n",
    "    \"coordinates\": []\n",
    "}"
   ]
  },
  {
   "cell_type": "code",
   "execution_count": 35,
   "metadata": {},
   "outputs": [
    {
     "name": "stdout",
     "output_type": "stream",
     "text": [
      "MultiLineString\n"
     ]
    }
   ],
   "source": [
    "print(geojson['type'])\n",
    "geojson['coordinates'] = coordinates\n",
    "geojson_data = json.dumps(geojson)"
   ]
  },
  {
   "cell_type": "code",
   "execution_count": 36,
   "metadata": {},
   "outputs": [],
   "source": [
    "with open(\"一岛链.json\", \"w\") as json_file:\n",
    "    json_file.write(geojson_data)\n",
    "    json_file.close()"
   ]
  },
  {
   "cell_type": "code",
   "execution_count": 11,
   "metadata": {},
   "outputs": [],
   "source": [
    "# Program to convert an xml\n",
    "# file to json file\n",
    " \n",
    "# import json module and xmltodict\n",
    "# module provided by python\n",
    "import json\n",
    "import xmltodict\n",
    " \n",
    " \n",
    "# open the input xml file and read\n",
    "# data in form of python dictionary\n",
    "# using xmltodict module\n",
    "with open(\"一岛链 - 副本.xml\" ,'r', encoding='utf-8') as xml_file:\n",
    "     \n",
    "    data_dict = xmltodict.parse(xml_file.read())\n",
    "    xml_file.close()\n",
    "     \n",
    "    # generate the object using json.dumps()\n",
    "    # corresponding to json data\n",
    "     \n",
    "    json_data = json.dumps(data_dict)\n",
    "     \n",
    "    # Write the json data to output\n",
    "    # json file\n",
    "    with open(\"一岛链.json\", \"w\") as json_file:\n",
    "        json_file.write(json_data)\n",
    "        json_file.close()"
   ]
  },
  {
   "cell_type": "code",
   "execution_count": null,
   "metadata": {},
   "outputs": [],
   "source": []
  }
 ],
 "metadata": {
  "kernelspec": {
   "display_name": "Python 3",
   "language": "python",
   "name": "python3"
  },
  "language_info": {
   "codemirror_mode": {
    "name": "ipython",
    "version": 3
   },
   "file_extension": ".py",
   "mimetype": "text/x-python",
   "name": "python",
   "nbconvert_exporter": "python",
   "pygments_lexer": "ipython3",
   "version": "3.7.4"
  }
 },
 "nbformat": 4,
 "nbformat_minor": 2
}
