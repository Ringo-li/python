{
 "cells": [
  {
   "cell_type": "code",
   "execution_count": null,
   "metadata": {},
   "outputs": [],
   "source": [
    "x = int(input())\n",
    "y = int(input())\n",
    "z = int(input())\n",
    "A = []\n",
    "B = []\n",
    "for _ in range(x):\n",
    "    A.append(input().split())\n",
    "for _ in range(y):\n",
    "    B.append(input().split())\n",
    "C = []\n",
    "for i in range(x):\n",
    "    tmp = []\n",
    "    for j in range(z):\n",
    "        result = 0\n",
    "        for k in range(y):\n",
    "            result = result + int(A[i][k])*int(B[k][j])\n",
    "        tmp.append(result)\n",
    "    C.append(tmp)\n",
    "for c in C:\n",
    "    print(' '.join([str(i) for i in c]))\n"
   ]
  }
 ],
 "metadata": {
  "language_info": {
   "name": "python"
  },
  "orig_nbformat": 4
 },
 "nbformat": 4,
 "nbformat_minor": 2
}
