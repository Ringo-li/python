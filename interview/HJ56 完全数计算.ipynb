{
 "cells": [
  {
   "cell_type": "code",
   "execution_count": 29,
   "metadata": {},
   "outputs": [
    {
     "name": "stdout",
     "output_type": "stream",
     "text": [
      "1\n",
      "2\n"
     ]
    }
   ],
   "source": [
    "while True:\n",
    "    try:\n",
    "        n = int(input())\n",
    "        pnum = []\n",
    "        i = 1\n",
    "        while i <= n:\n",
    "            div = 1\n",
    "            divlst = []\n",
    "            while div < i**0.5+1:\n",
    "                if i % div == 0:\n",
    "                    divlst.append(div)\n",
    "                div += 1\n",
    "            if sum(divlst) == i:\n",
    "                pnum.append(i)\n",
    "            i += 1\n",
    "        print(len(pnum) -1 )\n",
    "\n",
    "    except:\n",
    "        break"
   ]
  }
 ],
 "metadata": {
  "interpreter": {
   "hash": "d88d2ab4b117b0fdfaf0671a13b7bc38b2644f22022f721cb95296f6931d23b1"
  },
  "kernelspec": {
   "display_name": "Python 3.9.7 ('base')",
   "language": "python",
   "name": "python3"
  },
  "language_info": {
   "codemirror_mode": {
    "name": "ipython",
    "version": 3
   },
   "file_extension": ".py",
   "mimetype": "text/x-python",
   "name": "python",
   "nbconvert_exporter": "python",
   "pygments_lexer": "ipython3",
   "version": "3.9.7"
  },
  "orig_nbformat": 4
 },
 "nbformat": 4,
 "nbformat_minor": 2
}
