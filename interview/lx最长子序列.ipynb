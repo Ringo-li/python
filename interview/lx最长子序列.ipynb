{
 "cells": [
  {
   "cell_type": "code",
   "execution_count": 5,
   "metadata": {},
   "outputs": [
    {
     "name": "stdout",
     "output_type": "stream",
     "text": [
      "[2, 4, 1]\n"
     ]
    }
   ],
   "source": [
    "nums = [2, 5, 7, 3, 2, 6, 2, 4, 1]\n",
    "target = 7\n",
    "resault = []\n",
    "for i in range(len(nums)):\n",
    " path = []\n",
    " path.append(nums[i])\n",
    " for j in range(i+1,len(nums)):\n",
    "  path.append(nums[j])\n",
    "  if sum(path) == target:\n",
    "   resault.append(path.copy())\n",
    "  if sum(path)>target:\n",
    "   break\n",
    "   \n",
    "print(max(resault, key=len))\n"
   ]
  },
  {
   "cell_type": "code",
   "execution_count": null,
   "metadata": {},
   "outputs": [],
   "source": []
  }
 ],
 "metadata": {
  "interpreter": {
   "hash": "3d9ed8596bff362bc93aede9b581c6e6e04e4e735564027361e0f5a7bf7c1a68"
  },
  "kernelspec": {
   "display_name": "Python 3.9.7 ('base')",
   "language": "python",
   "name": "python3"
  },
  "language_info": {
   "codemirror_mode": {
    "name": "ipython",
    "version": 3
   },
   "file_extension": ".py",
   "mimetype": "text/x-python",
   "name": "python",
   "nbconvert_exporter": "python",
   "pygments_lexer": "ipython3",
   "version": "3.9.7"
  },
  "orig_nbformat": 4
 },
 "nbformat": 4,
 "nbformat_minor": 2
}
