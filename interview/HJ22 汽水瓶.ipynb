{
 "cells": [
  {
   "cell_type": "code",
   "execution_count": 1,
   "id": "9c6b1c66",
   "metadata": {},
   "outputs": [
    {
     "name": "stdout",
     "output_type": "stream",
     "text": [
      "1\n",
      "2\n",
      "3\n",
      "4\n",
      "5\n",
      "6\n",
      "7\n",
      "8\n",
      "9\n",
      "10\n",
      "0\n",
      "0\n",
      "0\n",
      "1\n",
      "2\n",
      "2\n",
      "3\n",
      "3\n",
      "4\n",
      "4\n",
      "5\n"
     ]
    }
   ],
   "source": [
    "lst = []\n",
    "while True:\n",
    "    try:\n",
    "        n = int(input())\n",
    "        if n:\n",
    "            lst.append(n)\n",
    "        else:\n",
    "            break\n",
    "    except:\n",
    "        break\n",
    "        \n",
    "\n",
    "for empty in lst:\n",
    "    total = 0\n",
    "    while empty//3:\n",
    "        if ((empty//3) + (empty%3)) == 2:\n",
    "            total += 1\n",
    "        total += empty//3\n",
    "        empty = (empty//3) + (empty%3)\n",
    "    print(total)\n",
    "    "
   ]
  },
  {
   "cell_type": "code",
   "execution_count": 11,
   "id": "bf60329b",
   "metadata": {},
   "outputs": [
    {
     "name": "stdout",
     "output_type": "stream",
     "text": [
      "3\n",
      "4\n",
      "5\n",
      "2\n",
      "10\n",
      "0\n",
      "1\n",
      "2\n",
      "2\n",
      "1\n",
      "5\n"
     ]
    }
   ],
   "source": [
    "'''\n",
    "这个题说了一大堆，最后你可以不要脸的问老板借一还一，双手叉腰走人，不留下一点垃圾。也就是说，只要去算你有的能不能整除就完事了\n",
    "'''\n",
    "lst = []\n",
    "while True:\n",
    "    try:\n",
    "        n = int(input())\n",
    "        if n:\n",
    "            lst.append(n)\n",
    "        else:\n",
    "            break\n",
    "    except:\n",
    "        break\n",
    "        \n",
    "for i in lst:\n",
    "    if i==0:break\n",
    "    print(i//2)"
   ]
  },
  {
   "cell_type": "code",
   "execution_count": 10,
   "id": "22813b79",
   "metadata": {},
   "outputs": [
    {
     "name": "stdout",
     "output_type": "stream",
     "text": [
      "4\n",
      "5\n",
      "6\n",
      "2\n",
      "1\n",
      "10\n",
      "0\n",
      "2\n",
      "2\n",
      "3\n",
      "1\n",
      "0\n",
      "5\n"
     ]
    }
   ],
   "source": [
    "lst = []\n",
    "while True:\n",
    "    try:\n",
    "        n = int(input())\n",
    "        if n:\n",
    "            lst.append(n)\n",
    "        else:\n",
    "            break\n",
    "    except:\n",
    "        break\n",
    "        \n",
    "def f(n):\n",
    "    if n == 0: return 0\n",
    "    if n == 1: return 0\n",
    "    if n >=2: return f(n-2) + 1\n",
    "\n",
    "for x in lst:\n",
    "    if x != 0:\n",
    "        print(f(x))\n"
   ]
  },
  {
   "cell_type": "code",
   "execution_count": null,
   "id": "1a73458c",
   "metadata": {},
   "outputs": [],
   "source": []
  }
 ],
 "metadata": {
  "kernelspec": {
   "display_name": "Python 3 (ipykernel)",
   "language": "python",
   "name": "python3"
  },
  "language_info": {
   "codemirror_mode": {
    "name": "ipython",
    "version": 3
   },
   "file_extension": ".py",
   "mimetype": "text/x-python",
   "name": "python",
   "nbconvert_exporter": "python",
   "pygments_lexer": "ipython3",
   "version": "3.9.7"
  }
 },
 "nbformat": 4,
 "nbformat_minor": 5
}
