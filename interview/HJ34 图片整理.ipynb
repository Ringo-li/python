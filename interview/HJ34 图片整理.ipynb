{
 "cells": [
  {
   "cell_type": "code",
   "execution_count": 1,
   "id": "9db8dd44",
   "metadata": {},
   "outputs": [
    {
     "name": "stdout",
     "output_type": "stream",
     "text": [
      "fdsal;fefod10321\n",
      "01123;addeffflos\n",
      "fdsfLKKjdospoe32431))*^&*$%^KKKkds\n",
      "$%&))**12334KKKKKL^^dddeffjkoopsss\n"
     ]
    }
   ],
   "source": [
    "while True:\n",
    "    try:\n",
    "        s = list(input())\n",
    "        s.sort()\n",
    "        print(''.join(s))\n",
    "    except:\n",
    "        break"
   ]
  },
  {
   "cell_type": "markdown",
   "id": "e4897fab",
   "metadata": {},
   "source": [
    "#### 知识点  \n",
    "str没有sort方法，列表有  \n",
    "sorted函数对strke'yong"
   ]
  },
  {
   "cell_type": "code",
   "execution_count": 4,
   "id": "cfa63b93",
   "metadata": {},
   "outputs": [
    {
     "name": "stdout",
     "output_type": "stream",
     "text": [
      "ds\n",
      "ds\n"
     ]
    }
   ],
   "source": [
    "while True:\n",
    "    try:\n",
    "        print(''.join(sorted(input())))\n",
    "    except:\n",
    "        break"
   ]
  },
  {
   "cell_type": "code",
   "execution_count": null,
   "id": "9f2d8d99",
   "metadata": {},
   "outputs": [],
   "source": []
  }
 ],
 "metadata": {
  "kernelspec": {
   "display_name": "Python 3 (ipykernel)",
   "language": "python",
   "name": "python3"
  },
  "language_info": {
   "codemirror_mode": {
    "name": "ipython",
    "version": 3
   },
   "file_extension": ".py",
   "mimetype": "text/x-python",
   "name": "python",
   "nbconvert_exporter": "python",
   "pygments_lexer": "ipython3",
   "version": "3.9.7"
  }
 },
 "nbformat": 4,
 "nbformat_minor": 5
}
