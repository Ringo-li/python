{
 "cells": [
  {
   "cell_type": "code",
   "execution_count": 47,
   "metadata": {},
   "outputs": [
    {
     "name": "stdout",
     "output_type": "stream",
     "text": [
      "3868643487\n",
      "230.150.208.159\n"
     ]
    }
   ],
   "source": [
    "s1 = input()\n",
    "s2 = input()\n",
    "\n",
    "b_n = ''\n",
    "for i in s1.split('.'):\n",
    "    b_n += '{:>08}'.format(bin(int(i)).replace('0b',''))\n",
    "print(int(b_n,2))\n",
    "# for j in s2.split()\n",
    "x_n = '{:b}'.format(int(s2))\n",
    "# print('{:b}'.format(int(s2)))\n",
    "x_nlst = []\n",
    "for i in range(len(x_n)//8+1):\n",
    "    if i == len(x_n)//8:\n",
    "        x_nlst.append(x_n[:-i*8])\n",
    "    elif i == 0:\n",
    "        x_nlst.append(x_n[-8:])\n",
    "    else:\n",
    "        x_nlst.append(x_n[-(i+1)*8:-i*8])\n",
    "# print(x_nlst)\n",
    "# print([int(i,2) for i in x_nlst[::-1]])\n",
    "print('.'.join([str(int(i,2)) for i in x_nlst[::-1] if i]))"
   ]
  },
  {
   "cell_type": "code",
   "execution_count": null,
   "metadata": {},
   "outputs": [],
   "source": []
  }
 ],
 "metadata": {
  "interpreter": {
   "hash": "d88d2ab4b117b0fdfaf0671a13b7bc38b2644f22022f721cb95296f6931d23b1"
  },
  "kernelspec": {
   "display_name": "Python 3.9.7 ('base')",
   "language": "python",
   "name": "python3"
  },
  "language_info": {
   "codemirror_mode": {
    "name": "ipython",
    "version": 3
   },
   "file_extension": ".py",
   "mimetype": "text/x-python",
   "name": "python",
   "nbconvert_exporter": "python",
   "pygments_lexer": "ipython3",
   "version": "3.9.7"
  },
  "orig_nbformat": 4
 },
 "nbformat": 4,
 "nbformat_minor": 2
}
