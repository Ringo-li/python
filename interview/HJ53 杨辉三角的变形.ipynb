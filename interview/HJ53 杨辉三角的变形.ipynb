{
 "cells": [
  {
   "cell_type": "code",
   "execution_count": 13,
   "id": "ecf72b98",
   "metadata": {},
   "outputs": [],
   "source": [
    "while True:\n",
    "    try:\n",
    "        n = int(input())\n",
    "        lst = []\n",
    "        row = 0\n",
    "        for i in range(n):\n",
    "            if i == 0:\n",
    "                tmp = [1]\n",
    "                lst.append(tmp)\n",
    "            elif i == 1:\n",
    "                tmp = [1]*3\n",
    "                lst.append(tmp)\n",
    "            else:\n",
    "                tmp = []\n",
    "                for j in range(i+3):\n",
    "                    if j == 0 or j == i+2:\n",
    "                        tmp.append(1)\n",
    "                    elif j == 1 or j == i+1:\n",
    "                        tmp.append(i)\n",
    "                    else:\n",
    "                        tmp.append(lst[-1][j-2]+lst[-1][j-1]+lst[-1][j])\n",
    "                lst.append(tmp)\n",
    "        print(lst[-1])\n",
    "        for i in range(len(lst[-1])):\n",
    "            if lst[-1][i]%2 == 0:\n",
    "                print(i+1)\n",
    "                break\n",
    "        else:\n",
    "            print(-1)\n",
    "    except:\n",
    "        break"
   ]
  },
  {
   "cell_type": "code",
   "execution_count": null,
   "id": "e8589204",
   "metadata": {},
   "outputs": [],
   "source": [
    "### 杨辉三角\n",
    "n = int(input())\n",
    "lst = []\n",
    "for i in range(n):\n",
    "    tmp = []\n",
    "    if i == 0:\n",
    "        tmp = [1]\n",
    "        lst.append(tmp)\n",
    "    elif i == 1:\n",
    "        tmp = [1, 1]\n",
    "        lst.append(tmp)\n",
    "    else:\n",
    "        for j in range(i+1):\n",
    "            if j == 0 or j == i:\n",
    "                tmp.append(1)\n",
    "            else:\n",
    "                tmp.append(lst[-1][j-1]+lst[-1][j])\n",
    "        lst.append(tmp)\n",
    "print(lst)   "
   ]
  }
 ],
 "metadata": {
  "kernelspec": {
   "display_name": "Python 3 (ipykernel)",
   "language": "python",
   "name": "python3"
  },
  "language_info": {
   "codemirror_mode": {
    "name": "ipython",
    "version": 3
   },
   "file_extension": ".py",
   "mimetype": "text/x-python",
   "name": "python",
   "nbconvert_exporter": "python",
   "pygments_lexer": "ipython3",
   "version": "3.9.7"
  }
 },
 "nbformat": 4,
 "nbformat_minor": 5
}
