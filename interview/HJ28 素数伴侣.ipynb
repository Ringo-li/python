{
 "cells": [
  {
   "cell_type": "code",
   "execution_count": 11,
   "metadata": {},
   "outputs": [
    {
     "name": "stdout",
     "output_type": "stream",
     "text": [
      "[(2, 5), (5, 6), (6, 13)]\n"
     ]
    }
   ],
   "source": [
    "n = int(input())\n",
    "nlst = list(map(int,input().split()))\n",
    "\n",
    "result = []\n",
    "import itertools\n",
    "for i in itertools.combinations(nlst,2):\n",
    "    tmp = 0\n",
    "    for j in range(2,int(sum(i)**0.5)+1):\n",
    "        if sum(i)%j == 0:\n",
    "            tmp += 1\n",
    "    if not tmp:\n",
    "        result.append(i)\n",
    "print(result)\n",
    "\n"
   ]
  },
  {
   "cell_type": "code",
   "execution_count": null,
   "metadata": {},
   "outputs": [],
   "source": []
  }
 ],
 "metadata": {
  "interpreter": {
   "hash": "d88d2ab4b117b0fdfaf0671a13b7bc38b2644f22022f721cb95296f6931d23b1"
  },
  "kernelspec": {
   "display_name": "Python 3.9.7 ('base')",
   "language": "python",
   "name": "python3"
  },
  "language_info": {
   "codemirror_mode": {
    "name": "ipython",
    "version": 3
   },
   "file_extension": ".py",
   "mimetype": "text/x-python",
   "name": "python",
   "nbconvert_exporter": "python",
   "pygments_lexer": "ipython3",
   "version": "3.9.7"
  },
  "orig_nbformat": 4
 },
 "nbformat": 4,
 "nbformat_minor": 2
}
