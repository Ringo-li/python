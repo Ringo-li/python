{
 "cells": [
  {
   "cell_type": "code",
   "execution_count": 64,
   "id": "197e92f7",
   "metadata": {},
   "outputs": [
    {
     "name": "stdout",
     "output_type": "stream",
     "text": [
      "4\n",
      "2 4\n",
      "4 2\n",
      "2 5\n",
      "1 4\n",
      "1 4\n",
      "2 9\n",
      "4 2\n"
     ]
    }
   ],
   "source": [
    "# 动态构建字典\n",
    "\n",
    "n = int(input())\n",
    "dct = {}\n",
    "while n:\n",
    "    s = input().split()\n",
    "    if int(s[0]) in dct:\n",
    "        dct[int(s[0])] += int(s[1])\n",
    "    else:\n",
    "        dct[int(s[0])] = int(s[1])\n",
    "    n -= 1\n",
    "for i in sorted(dct.keys()):\n",
    "    print(i, dct[i])"
   ]
  },
  {
   "cell_type": "markdown",
   "id": "de6cca6f",
   "metadata": {},
   "source": [
    "#### 知识点\n",
    "get(key[, default])  \n",
    "Return the value for key if key is in the dictionary, else default. If default is not given, it defaults to None, so that this method never raises a KeyError."
   ]
  },
  {
   "cell_type": "code",
   "execution_count": 67,
   "id": "d0dd1913",
   "metadata": {},
   "outputs": [
    {
     "name": "stdout",
     "output_type": "stream",
     "text": [
      "4\n",
      "2 4\n",
      "4 2\n",
      "2 5\n",
      "1 3\n",
      "1 3\n",
      "2 9\n",
      "4 2\n"
     ]
    }
   ],
   "source": [
    "n = int(input()) \n",
    "record = {} #python里的map更加方便\n",
    "for i in range(n):\n",
    "    line = input().split()\n",
    "    idx = int(line[0]) #当前记录的索引值\n",
    "    value = int(line[1]) #当前记录的数值\n",
    "    record[idx] = record.get(idx,0)+value #将record中对应索引值的原有累积value加上当前记录的value\n",
    "for idx in sorted(record): #对记录表进行排序并输出\n",
    "    print(idx, record[idx])\n"
   ]
  },
  {
   "cell_type": "markdown",
   "id": "0f6c399f",
   "metadata": {},
   "source": [
    "#### 知识点\n",
    "map(int,input().split())  \n",
    "map，用int方法处理输入后分解的数据\n",
    "\n",
    "数据交换  \n",
    "c = a\n",
    "a = b\n",
    "b = c\n",
    "\n",
    "zip(index,value)  \n",
    "将可迭代对象index和value的各元素两两组合成元组"
   ]
  },
  {
   "cell_type": "code",
   "execution_count": 65,
   "id": "afd3ce73",
   "metadata": {},
   "outputs": [
    {
     "name": "stdout",
     "output_type": "stream",
     "text": [
      "4\n",
      "2 4\n",
      "4 2\n",
      "1 5\n",
      "2 6\n",
      "1 5\n",
      "2 10\n",
      "4 2\n"
     ]
    }
   ],
   "source": [
    "while True:\n",
    "    try:\n",
    "        n=int(input())\n",
    "        index,value=[],[]\n",
    "        for i in range(n):\n",
    "            a,b=list(map(int,input().split()))\n",
    "            if a in index:\n",
    "                c=index.index(a)\n",
    "                value[c]+=b\n",
    "            else:\n",
    "                index.append(a)\n",
    "                value.append(b)\n",
    "        l = list(zip(index,value))\n",
    "        l.sort()\n",
    "        for each in l:\n",
    "            print(each[0],each[1])\n",
    "    except:\n",
    "        break\n"
   ]
  }
 ],
 "metadata": {
  "kernelspec": {
   "display_name": "Python 3 (ipykernel)",
   "language": "python",
   "name": "python3"
  },
  "language_info": {
   "codemirror_mode": {
    "name": "ipython",
    "version": 3
   },
   "file_extension": ".py",
   "mimetype": "text/x-python",
   "name": "python",
   "nbconvert_exporter": "python",
   "pygments_lexer": "ipython3",
   "version": "3.9.7"
  }
 },
 "nbformat": 4,
 "nbformat_minor": 5
}
