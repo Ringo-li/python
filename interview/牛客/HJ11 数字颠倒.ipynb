{
 "cells": [
  {
   "cell_type": "code",
   "execution_count": 1,
   "id": "ddbb5441",
   "metadata": {},
   "outputs": [
    {
     "name": "stdout",
     "output_type": "stream",
     "text": [
      "1234\n",
      "4321\n",
      "0123\n",
      "3210\n",
      "100\n",
      "001\n"
     ]
    }
   ],
   "source": [
    "while True:\n",
    "    try:\n",
    "        s = input()\n",
    "        print(s[::-1])\n",
    "    except:\n",
    "        break"
   ]
  },
  {
   "cell_type": "code",
   "execution_count": 2,
   "id": "2029426b",
   "metadata": {},
   "outputs": [
    {
     "name": "stdout",
     "output_type": "stream",
     "text": [
      "2311\n",
      "1132\n"
     ]
    }
   ],
   "source": [
    "#  方法2\n",
    "def get_reverse_str(num):\n",
    "    num = str(num)\n",
    "    # 连接成 'a b c d e f'字符串\n",
    "    num = \" \".join(num)\n",
    "    # 分隔为数组 ['a','b','c','d','e','f']\n",
    "    num = num.split(\" \")\n",
    "    # 反转为['f', 'e', 'd', 'c', 'b', 'a']\n",
    "    num.reverse()\n",
    "    # 返回连接的反转过后的字符串\n",
    "    return \"\".join(num)\n",
    " \n",
    "print(get_reverse_str(input()))"
   ]
  },
  {
   "cell_type": "code",
   "execution_count": null,
   "id": "fff90d58",
   "metadata": {},
   "outputs": [],
   "source": []
  }
 ],
 "metadata": {
  "kernelspec": {
   "display_name": "Python 3 (ipykernel)",
   "language": "python",
   "name": "python3"
  },
  "language_info": {
   "codemirror_mode": {
    "name": "ipython",
    "version": 3
   },
   "file_extension": ".py",
   "mimetype": "text/x-python",
   "name": "python",
   "nbconvert_exporter": "python",
   "pygments_lexer": "ipython3",
   "version": "3.9.7"
  }
 },
 "nbformat": 4,
 "nbformat_minor": 5
}
