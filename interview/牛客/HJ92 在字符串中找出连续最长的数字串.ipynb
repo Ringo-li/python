{
 "cells": [
  {
   "cell_type": "code",
   "execution_count": 11,
   "metadata": {},
   "outputs": [
    {
     "name": "stdout",
     "output_type": "stream",
     "text": [
      "[[1, 26], [2, 27], [1, 29], [2, 30], [1, 32]]\n",
      "2424,2\n",
      "[[1, 1], [1, 3], [2, 4], [1, 6], [1, 8], [1, 11], [2, 12], [1, 14], [2, 15], [1, 18], [1, 20]]\n",
      "729865,2\n",
      "[[1, 4], [2, 5], [3, 6], [4, 7], [5, 8], [1, 11], [2, 12], [3, 13], [1, 16], [2, 17], [3, 18], [4, 19], [5, 20], [6, 21], [7, 22], [8, 23], [9, 24]]\n",
      "123058789,9\n"
     ]
    }
   ],
   "source": [
    "while True:\n",
    "    try:\n",
    "        s = input()\n",
    "        count = []\n",
    "        tmp = 0\n",
    "        result = 0\n",
    "        for i in range(len(s)):\n",
    "            if s[i].isdigit():\n",
    "                tmp += 1\n",
    "                # print(tmp,s[i])\n",
    "                if tmp > result:\n",
    "                    result = tmp\n",
    "                count.append([tmp,i])\n",
    "            else:\n",
    "                tmp = 0\n",
    "        # print(count)\n",
    "        for x,y in count:\n",
    "            # print(x,y,result)\n",
    "            if x == result:\n",
    "                print(s[y-result+1:y+1],end='')\n",
    "        print(','+str(result))\n",
    "    except:\n",
    "        break            \n"
   ]
  },
  {
   "cell_type": "code",
   "execution_count": 15,
   "metadata": {},
   "outputs": [
    {
     "name": "stdout",
     "output_type": "stream",
     "text": [
      "2\n"
     ]
    }
   ],
   "source": [
    "count = [[1, 1], [1, 3], [1, 6], [1, 8], [1, 11], [1, 14], [1, 18], [1, 20], [2, 4], [2, 12], [2, 15]]\n",
    "print(max(count,key=lambda i:i[0])[0])"
   ]
  },
  {
   "cell_type": "code",
   "execution_count": null,
   "metadata": {},
   "outputs": [],
   "source": []
  }
 ],
 "metadata": {
  "interpreter": {
   "hash": "d88d2ab4b117b0fdfaf0671a13b7bc38b2644f22022f721cb95296f6931d23b1"
  },
  "kernelspec": {
   "display_name": "Python 3.9.7 ('base')",
   "language": "python",
   "name": "python3"
  },
  "language_info": {
   "codemirror_mode": {
    "name": "ipython",
    "version": 3
   },
   "file_extension": ".py",
   "mimetype": "text/x-python",
   "name": "python",
   "nbconvert_exporter": "python",
   "pygments_lexer": "ipython3",
   "version": "3.9.7"
  },
  "orig_nbformat": 4
 },
 "nbformat": 4,
 "nbformat_minor": 2
}
