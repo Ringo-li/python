{
 "cells": [
  {
   "cell_type": "code",
   "execution_count": 78,
   "metadata": {},
   "outputs": [
    {
     "name": "stdout",
     "output_type": "stream",
     "text": [
      "11\n",
      "[9, 10, 1, 2]\n",
      "2\n"
     ]
    }
   ],
   "source": [
    "n = int(input())\n",
    "operational = input()\n",
    "song_lst = list(range(1,n+1))\n",
    "now_lst = []\n",
    "op_n = 0\n",
    "\n",
    "\n",
    "for i in operational:\n",
    "    if i == 'U':\n",
    "        op_n -= 1\n",
    "    else:\n",
    "        op_n += 1\n",
    "now_item = song_lst[op_n%n]\n",
    "if n <= 4 :\n",
    "    now_lst = [1,2,3,4]\n",
    "else:\n",
    "    if op_n < 0:\n",
    "        if  abs(op_n)%n < 4:\n",
    "            now_lst = song_lst[now_item-1:now_item+3]+song_lst[:4-abs(op_n)%n]\n",
    "        else:\n",
    "            now_lst = song_lst[now_item-1:now_item+3]\n",
    "    if op_n > 0:\n",
    "        # print(op_n)\n",
    "        if op_n < 4 :\n",
    "            now_lst = [1,2,3,4]\n",
    "        elif op_n > 10 and op_n%n < 3:\n",
    "                now_lst = song_lst[(op_n%n)-3:]+song_lst[:now_item]\n",
    "        else:\n",
    "            now_lst = song_lst[now_item-4:now_item]\n",
    "\n",
    "print(' '.join([str(i) for i in now_lst]))\n",
    "print(now_item)\n"
   ]
  },
  {
   "cell_type": "code",
   "execution_count": 77,
   "metadata": {},
   "outputs": [
    {
     "data": {
      "text/plain": [
       "3"
      ]
     },
     "execution_count": 77,
     "metadata": {},
     "output_type": "execute_result"
    }
   ],
   "source": [
    "abs(-3)"
   ]
  },
  {
   "cell_type": "code",
   "execution_count": null,
   "metadata": {},
   "outputs": [],
   "source": []
  }
 ],
 "metadata": {
  "interpreter": {
   "hash": "d88d2ab4b117b0fdfaf0671a13b7bc38b2644f22022f721cb95296f6931d23b1"
  },
  "kernelspec": {
   "display_name": "Python 3.9.7 ('base')",
   "language": "python",
   "name": "python3"
  },
  "language_info": {
   "codemirror_mode": {
    "name": "ipython",
    "version": 3
   },
   "file_extension": ".py",
   "mimetype": "text/x-python",
   "name": "python",
   "nbconvert_exporter": "python",
   "pygments_lexer": "ipython3",
   "version": "3.9.7"
  },
  "orig_nbformat": 4
 },
 "nbformat": 4,
 "nbformat_minor": 2
}
