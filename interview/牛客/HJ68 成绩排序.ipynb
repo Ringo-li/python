{
 "cells": [
  {
   "cell_type": "code",
   "execution_count": 3,
   "metadata": {},
   "outputs": [
    {
     "name": "stdout",
     "output_type": "stream",
     "text": [
      "ds 2\n",
      "er 5\n"
     ]
    }
   ],
   "source": [
    "n = int(input())\n",
    "bool = int(input())\n",
    "transcript = []\n",
    "for _ in range(n):\n",
    "    transcript.append(input().split())\n",
    "if bool:\n",
    "    for x,y in sorted(transcript,key=lambda x:int(x[1])):\n",
    "        print(x, y)\n",
    "else:\n",
    "    for x,y in sorted(transcript,key=lambda x:int(x[1]),reverse=True):\n",
    "        print(x, y)\n",
    "    "
   ]
  },
  {
   "cell_type": "code",
   "execution_count": null,
   "metadata": {},
   "outputs": [],
   "source": []
  }
 ],
 "metadata": {
  "interpreter": {
   "hash": "d88d2ab4b117b0fdfaf0671a13b7bc38b2644f22022f721cb95296f6931d23b1"
  },
  "kernelspec": {
   "display_name": "Python 3.9.7 ('base')",
   "language": "python",
   "name": "python3"
  },
  "language_info": {
   "codemirror_mode": {
    "name": "ipython",
    "version": 3
   },
   "file_extension": ".py",
   "mimetype": "text/x-python",
   "name": "python",
   "nbconvert_exporter": "python",
   "pygments_lexer": "ipython3",
   "version": "3.9.7"
  },
  "orig_nbformat": 4
 },
 "nbformat": 4,
 "nbformat_minor": 2
}
