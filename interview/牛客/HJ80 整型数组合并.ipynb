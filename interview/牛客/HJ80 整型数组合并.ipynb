{
 "cells": [
  {
   "cell_type": "code",
   "execution_count": 30,
   "metadata": {},
   "outputs": [
    {
     "name": "stdout",
     "output_type": "stream",
     "text": [
      "-101235\n"
     ]
    }
   ],
   "source": [
    "lst = []\n",
    "for _ in range(4):\n",
    "    lst.append(input())\n",
    "sset = set(lst[1].split() + lst[3].split())\n",
    "nlst = [int(i) for i in sset]\n",
    "print(''.join([str(i) for i in sorted(nlst)]))\n",
    "\n",
    "    "
   ]
  },
  {
   "cell_type": "code",
   "execution_count": 19,
   "metadata": {},
   "outputs": [
    {
     "name": "stdout",
     "output_type": "stream",
     "text": [
      "['2', '3', '6', '5', '4']\n"
     ]
    }
   ],
   "source": [
    "while 1:\n",
    "    try:\n",
    "        s0,s1,s3,s2 = input(), input().split(), input(), input().split()\n",
    "        s = map(str,sorted(map(int, set(s1+s2))))\n",
    "        print(''.join(s))\n",
    "    except:\n",
    "        break\n"
   ]
  },
  {
   "cell_type": "code",
   "execution_count": null,
   "metadata": {},
   "outputs": [],
   "source": []
  }
 ],
 "metadata": {
  "interpreter": {
   "hash": "d88d2ab4b117b0fdfaf0671a13b7bc38b2644f22022f721cb95296f6931d23b1"
  },
  "kernelspec": {
   "display_name": "Python 3.9.7 ('base')",
   "language": "python",
   "name": "python3"
  },
  "language_info": {
   "codemirror_mode": {
    "name": "ipython",
    "version": 3
   },
   "file_extension": ".py",
   "mimetype": "text/x-python",
   "name": "python",
   "nbconvert_exporter": "python",
   "pygments_lexer": "ipython3",
   "version": "3.9.7"
  },
  "orig_nbformat": 4
 },
 "nbformat": 4,
 "nbformat_minor": 2
}
