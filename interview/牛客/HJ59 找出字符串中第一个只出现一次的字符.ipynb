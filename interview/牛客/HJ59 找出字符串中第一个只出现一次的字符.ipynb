{
 "cells": [
  {
   "cell_type": "code",
   "execution_count": null,
   "metadata": {},
   "outputs": [],
   "source": [
    "s = input()\n",
    "for i in s:\n",
    "    if s.count(i) == 1:\n",
    "        print(i)\n",
    "        break\n",
    "else:\n",
    "    print(-1)\n"
   ]
  }
 ],
 "metadata": {
  "language_info": {
   "name": "python"
  },
  "orig_nbformat": 4
 },
 "nbformat": 4,
 "nbformat_minor": 2
}
