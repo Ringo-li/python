{
 "cells": [
  {
   "cell_type": "code",
   "execution_count": 25,
   "metadata": {},
   "outputs": [
    {
     "name": "stdout",
     "output_type": "stream",
     "text": [
      "10,-10\n"
     ]
    }
   ],
   "source": [
    "s = input()\n",
    "lst = s.split(';')\n",
    "horizontal = []\n",
    "vertical = []\n",
    "for i in lst:\n",
    "    if not i:\n",
    "        continue\n",
    "    if len(i) > 3 and len(i) < 2:\n",
    "        continue\n",
    "    if not i[-1].isdigit():\n",
    "        continue\n",
    "    if i[1].isalpha():\n",
    "        continue\n",
    "    if i[0] in 'AD':\n",
    "        horizontal.append(i)\n",
    "    if i[0] in 'WS':\n",
    "        vertical.append(i)\n",
    "horizontal_int = [0]\n",
    "vertical_int = [0]\n",
    "for x in horizontal:\n",
    "    if x[0] == 'A':\n",
    "        horizontal_int.append(x.replace('A', '-'))\n",
    "    else:\n",
    "        horizontal_int.append(x.replace('D','+'))\n",
    "for y in vertical:\n",
    "    if y[0] == 'W':\n",
    "        vertical_int.append(y.replace('W', '+'))\n",
    "    else:\n",
    "        vertical_int.append(y.replace('S', '-'))\n",
    "\n",
    "# print(str(sum([int(i) for i in horizontal_int]))+','+str(sum([int(i) for i in vertical_int])))\n",
    "print('{},{}'.format(sum([int(i) for i in horizontal_int]),sum([int(i) for i in vertical_int])))"
   ]
  },
  {
   "cell_type": "code",
   "execution_count": 17,
   "metadata": {},
   "outputs": [
    {
     "name": "stdout",
     "output_type": "stream",
     "text": [
      "True\n"
     ]
    }
   ],
   "source": [
    "s= 'as'\n",
    "print(s[0]=='a')"
   ]
  },
  {
   "cell_type": "code",
   "execution_count": null,
   "metadata": {},
   "outputs": [],
   "source": []
  }
 ],
 "metadata": {
  "interpreter": {
   "hash": "d88d2ab4b117b0fdfaf0671a13b7bc38b2644f22022f721cb95296f6931d23b1"
  },
  "kernelspec": {
   "display_name": "Python 3.9.7 ('base')",
   "language": "python",
   "name": "python3"
  },
  "language_info": {
   "codemirror_mode": {
    "name": "ipython",
    "version": 3
   },
   "file_extension": ".py",
   "mimetype": "text/x-python",
   "name": "python",
   "nbconvert_exporter": "python",
   "pygments_lexer": "ipython3",
   "version": "3.9.7"
  },
  "orig_nbformat": 4
 },
 "nbformat": 4,
 "nbformat_minor": 2
}
