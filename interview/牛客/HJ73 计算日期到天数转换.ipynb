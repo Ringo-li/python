{
 "cells": [
  {
   "cell_type": "code",
   "execution_count": 20,
   "metadata": {},
   "outputs": [
    {
     "name": "stdout",
     "output_type": "stream",
     "text": [
      "62\n"
     ]
    }
   ],
   "source": [
    "from datetime import datetime\n",
    "date = datetime.strptime(input(),\"%Y %m %d\")\n",
    "first = datetime.strptime(str(date.year)+\" 1 1\",\"%Y %m %d\")\n",
    "print((date - first).days + 1)\n"
   ]
  },
  {
   "cell_type": "code",
   "execution_count": 21,
   "metadata": {},
   "outputs": [
    {
     "name": "stdout",
     "output_type": "stream",
     "text": [
      "62\n",
      "62\n"
     ]
    }
   ],
   "source": [
    "while True:\n",
    "    try:\n",
    "        ping_mounth = [31,28,31,30,31,30,31,31,30,31,30,31]\n",
    "        run_mounth = [31,29,31,30,31,30,31,31,30,31,30,31]\n",
    "        year,mounth,day = map(int,input().split())\n",
    "\n",
    "        a = 0\n",
    "        if year%4 == 0 and year%100 != 0 or year % 400 == 0:\n",
    "    \n",
    "            for i in run_mounth[0:mounth-1]:\n",
    "                a = a + i\n",
    "            a = a + day\n",
    "\n",
    "        else:\n",
    "            for i in ping_mounth[0:mounth-1]:\n",
    "                a = a + i\n",
    "            a = a + day\n",
    "        print(a)\n",
    "    except:\n",
    "        break\n"
   ]
  },
  {
   "cell_type": "code",
   "execution_count": null,
   "metadata": {},
   "outputs": [],
   "source": [
    "import datetime\n",
    "while True:\n",
    "    try:\n",
    "        date = input().split()\n",
    "        year, month, day = int(date[0]), int(date[1]), int(date[2])\n",
    "        date = datetime.datetime(year, month, day)\n",
    "        which_day = date.strftime('%j').lstrip('0')\n",
    "        print(which_day)\n",
    "    except:\n",
    "        break"
   ]
  }
 ],
 "metadata": {
  "interpreter": {
   "hash": "d88d2ab4b117b0fdfaf0671a13b7bc38b2644f22022f721cb95296f6931d23b1"
  },
  "kernelspec": {
   "display_name": "Python 3.9.7 ('base')",
   "language": "python",
   "name": "python3"
  },
  "language_info": {
   "codemirror_mode": {
    "name": "ipython",
    "version": 3
   },
   "file_extension": ".py",
   "mimetype": "text/x-python",
   "name": "python",
   "nbconvert_exporter": "python",
   "pygments_lexer": "ipython3",
   "version": "3.9.7"
  },
  "orig_nbformat": 4
 },
 "nbformat": 4,
 "nbformat_minor": 2
}
