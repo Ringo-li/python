{
 "cells": [
  {
   "cell_type": "code",
   "execution_count": 23,
   "id": "2e405973",
   "metadata": {},
   "outputs": [
    {
     "name": "stdout",
     "output_type": "stream",
     "text": [
      "256\n",
      "2 2 2 2 2 2 2 2 "
     ]
    }
   ],
   "source": [
    "n = int(input())\n",
    "prime = 2\n",
    "\n",
    "while prime < n**0.5+1:\n",
    "    if n % prime == 0:\n",
    "        n = n//prime\n",
    "        print(prime, end=' ')\n",
    "    else:\n",
    "        prime += 1\n",
    "if n > 2:\n",
    "    print(n)"
   ]
  },
  {
   "cell_type": "code",
   "execution_count": 3,
   "id": "23c8b1a3",
   "metadata": {},
   "outputs": [
    {
     "name": "stdout",
     "output_type": "stream",
     "text": [
      "1000000000000000000000000000000000000000\n",
      "2 2 2 2 2 2 2 2 2 2 2 2 2 2 2 2 2 2 2 2 2 2 2 2 2 2 2 2 2 2 2 2 2 2 2 2 2 2 2 5 5 5 5 5 5 5 5 5 5 5 5 5 5 5 5 5 5 5 5 5 5 5 5 5 5 5 5 5 5 5 5 5 5 5 5 5 5 5 "
     ]
    },
    {
     "ename": "KeyboardInterrupt",
     "evalue": "",
     "output_type": "error",
     "traceback": [
      "\u001b[1;31m---------------------------------------------------------------------------\u001b[0m",
      "\u001b[1;31mKeyboardInterrupt\u001b[0m                         Traceback (most recent call last)",
      "\u001b[1;32m~\\AppData\\Local\\Temp/ipykernel_7164/2554653554.py\u001b[0m in \u001b[0;36m<module>\u001b[1;34m\u001b[0m\n\u001b[0;32m      1\u001b[0m \u001b[1;32mimport\u001b[0m \u001b[0mmath\u001b[0m\u001b[1;33m\u001b[0m\u001b[1;33m\u001b[0m\u001b[0m\n\u001b[0;32m      2\u001b[0m \u001b[0mn\u001b[0m \u001b[1;33m=\u001b[0m \u001b[0mint\u001b[0m\u001b[1;33m(\u001b[0m\u001b[0minput\u001b[0m\u001b[1;33m(\u001b[0m\u001b[1;33m)\u001b[0m\u001b[1;33m)\u001b[0m\u001b[1;33m\u001b[0m\u001b[1;33m\u001b[0m\u001b[0m\n\u001b[1;32m----> 3\u001b[1;33m \u001b[1;32mfor\u001b[0m \u001b[0mi\u001b[0m \u001b[1;32min\u001b[0m \u001b[0mrange\u001b[0m\u001b[1;33m(\u001b[0m\u001b[1;36m2\u001b[0m\u001b[1;33m,\u001b[0m \u001b[0mint\u001b[0m\u001b[1;33m(\u001b[0m\u001b[0mmath\u001b[0m\u001b[1;33m.\u001b[0m\u001b[0msqrt\u001b[0m\u001b[1;33m(\u001b[0m\u001b[0mn\u001b[0m\u001b[1;33m)\u001b[0m\u001b[1;33m)\u001b[0m\u001b[1;33m+\u001b[0m\u001b[1;36m1\u001b[0m\u001b[1;33m)\u001b[0m\u001b[1;33m:\u001b[0m\u001b[1;33m\u001b[0m\u001b[1;33m\u001b[0m\u001b[0m\n\u001b[0m\u001b[0;32m      4\u001b[0m         \u001b[1;31m# 一个数可以被它所有的质因子表示\u001b[0m\u001b[1;33m\u001b[0m\u001b[1;33m\u001b[0m\u001b[0m\n\u001b[0;32m      5\u001b[0m     \u001b[1;31m# 这里仅考虑不大于根号下n的因子\u001b[0m\u001b[1;33m\u001b[0m\u001b[1;33m\u001b[0m\u001b[0m\n",
      "\u001b[1;31mKeyboardInterrupt\u001b[0m: "
     ]
    }
   ],
   "source": [
    "import math\n",
    "n = int(input())\n",
    "for i in range(2, int(math.sqrt(n))+1):\n",
    "\t# 一个数可以被它所有的质因子表示\n",
    "    # 这里仅考虑不大于根号下n的因子\n",
    "    # 因为当n被所有不大于根号下n的【质】因子整除后，要么余1，要么余2，要么会剩下一个且仅会剩下一个大于等于根号下n小于等于n的质数\n",
    "    # 不可能出现两个不相等且同时大于根号下n的质因子a和b，这会导致a*b>n\n",
    "# for i in range(2, n):\n",
    "    # 2<=i<n\n",
    "    while n % i == 0:\n",
    "        # 第一个能被整除的一定是最小的质数因子（如果是合数，一定有2<=x<i的质因子x）\n",
    "        # 后续能被整除的也一定是质数，若是合数，则合数的质因子肯定出现在之前，不成立\n",
    "        print(i, end=' ')  # 得到的每个i都是n的质因子（即列举重复的质因子）\n",
    "        n = n // i  # n不断变小，确保没有i这个质因子\n",
    "        # 双除号：输出整数\n",
    "if n > 2:\n",
    "    print(n)\n"
   ]
  },
  {
   "cell_type": "code",
   "execution_count": null,
   "id": "f5719e18",
   "metadata": {},
   "outputs": [],
   "source": [
    "num = int(input())\n",
    "for i in range(2,int(num**0.5)+1):\n",
    "    while num%i==0:\n",
    "        print(i,end=' ')\n",
    "        num = int(num/i)\n",
    "if num>2:\n",
    "    print(num)\n"
   ]
  },
  {
   "cell_type": "markdown",
   "id": "b1e583b1",
   "metadata": {},
   "source": [
    "大多数同学只关注到了一开始的时候使用平方根降低复杂度，然而忽略了后续进一步的优化，假如测试用例加上2的1000次方会如何？  \n",
    "使用while循环会比使用for循环时间复杂度要低，for循环的条件在循环中是不可变化的  \n",
    "而while循环每一次都可以重新调整条件缩小范围（如果条件有变化）  \n",
    "从而这个时间复杂度差不多是1/2 log⁡ n,而高赞题解所使用的for循环时间复杂度是sqrt(n) \n",
    "本地测试中，测试数字为2的60次方时，while循环用时0秒，高赞for循环用时107.0277秒。狗头保命"
   ]
  },
  {
   "cell_type": "code",
   "execution_count": 23,
   "id": "531149ac",
   "metadata": {},
   "outputs": [
    {
     "name": "stdout",
     "output_type": "stream",
     "text": [
      "100000000000000000000000000000000000000000\n",
      "2 2 2 2 2 2 2 2 2 2 2 2 2 2 2 2 2 2 2 2 2 2 2 2 2 2 2 2 2 2 2 2 2 2 2 2 2 2 2 2 2 5 5 5 5 5 5 5 5 5 5 5 5 5 5 5 5 5 5 5 5 5 5 5 5 5 5 5 5 5 5 5 5 5 5 5 5 5 5 5 5 5 \n"
     ]
    }
   ],
   "source": [
    "import math\n",
    "num = int(input())\n",
    "s = ''\n",
    "prime = 2\n",
    "while prime < math.sqrt(num)+1:\n",
    "    if num%prime != 0:\n",
    "        prime += 1\n",
    "    else:\n",
    "        num = num //prime\n",
    "        s += str(prime)+' '\n",
    "        prime = 2\n",
    "if num>=2:\n",
    "    s += str(num)+' '\n",
    "print(s)\n"
   ]
  }
 ],
 "metadata": {
  "kernelspec": {
   "display_name": "Python 3 (ipykernel)",
   "language": "python",
   "name": "python3"
  },
  "language_info": {
   "codemirror_mode": {
    "name": "ipython",
    "version": 3
   },
   "file_extension": ".py",
   "mimetype": "text/x-python",
   "name": "python",
   "nbconvert_exporter": "python",
   "pygments_lexer": "ipython3",
   "version": "3.9.7"
  }
 },
 "nbformat": 4,
 "nbformat_minor": 5
}
