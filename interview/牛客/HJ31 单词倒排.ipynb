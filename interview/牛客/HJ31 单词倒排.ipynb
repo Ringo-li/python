{
 "cells": [
  {
   "cell_type": "code",
   "execution_count": 34,
   "id": "8c8ea433",
   "metadata": {},
   "outputs": [
    {
     "name": "stdout",
     "output_type": "stream",
     "text": [
      "abc_ 34##vvd 4jf^^fd\n",
      "fd jf vvd abc\n"
     ]
    }
   ],
   "source": [
    "import re\n",
    "\n",
    "while True:\n",
    "    try:\n",
    "        s = list(input())\n",
    "        for i in range(len(s)):\n",
    "            if not s[i].isalpha():\n",
    "                s[i] = ' '\n",
    "        a = ''.join(s)\n",
    "        print(' '.join(re.sub('\\s+',' ',a).split()[::-1]))\n",
    "        \n",
    "    except:\n",
    "        break"
   ]
  },
  {
   "cell_type": "code",
   "execution_count": null,
   "id": "19bb9f2e",
   "metadata": {},
   "outputs": [],
   "source": [
    "while True:\n",
    "    try:\n",
    "        a=input().strip()\n",
    "        for i in range(len(a)):\n",
    "            if not a[i].isalpha():\n",
    "                a=a.replace(a[i], ' ')\n",
    "        b=a.split(' ')\n",
    "        b.reverse()\n",
    "        b.remove('')\n",
    "        print([ i for i in b if i != ''])\n",
    "#         print(' '.join([ i for i in b if i]))\n",
    "    except:\n",
    "        break"
   ]
  },
  {
   "cell_type": "code",
   "execution_count": null,
   "id": "2144a90a",
   "metadata": {},
   "outputs": [],
   "source": []
  }
 ],
 "metadata": {
  "kernelspec": {
   "display_name": "Python 3 (ipykernel)",
   "language": "python",
   "name": "python3"
  },
  "language_info": {
   "codemirror_mode": {
    "name": "ipython",
    "version": 3
   },
   "file_extension": ".py",
   "mimetype": "text/x-python",
   "name": "python",
   "nbconvert_exporter": "python",
   "pygments_lexer": "ipython3",
   "version": "3.9.7"
  }
 },
 "nbformat": 4,
 "nbformat_minor": 5
}
