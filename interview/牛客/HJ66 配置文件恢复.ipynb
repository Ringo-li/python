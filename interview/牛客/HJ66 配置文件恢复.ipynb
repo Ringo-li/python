{
 "cells": [
  {
   "cell_type": "code",
   "execution_count": 8,
   "metadata": {},
   "outputs": [],
   "source": [
    "import re\n",
    "dct = {\n",
    "    'reset': 'reset what',\n",
    "    'reset board': 'board fault',\n",
    "    'board add': 'where to add',\n",
    "    'board delete': 'no board at all',\n",
    "    'reboot backplane': 'impossible',\n",
    "    'backplane abort': 'install first'\n",
    "}\n",
    "\n",
    "while True:\n",
    "    try:\n",
    "        stdin = input().split()\n",
    "        if len(stdin) == 1:\n",
    "            if stdin[0] in 'reset' and stdin[0][0] == 'r':\n",
    "                print(dct.get('reset'))\n",
    "        elif len(stdin) == 2:\n",
    "            for key in dct.keys():\n",
    "                if stdin[0][0] == key.split()[0][0] and stdin[1][0] == key.split()[1][0] : \n",
    "                    if std[0][]\n",
    "                        dct.get(key)\n",
    "        else:\n",
    "            print('unknown command')\n",
    "    except:\n",
    "        break"
   ]
  },
  {
   "cell_type": "code",
   "execution_count": 6,
   "metadata": {},
   "outputs": [
    {
     "name": "stdout",
     "output_type": "stream",
     "text": [
      "dict_keys(['reset', 'reset board', 'board add', 'board delete', 'reboot backplane', 'backplane abort'])\n"
     ]
    },
    {
     "data": {
      "text/plain": [
       "'reset what'"
      ]
     },
     "execution_count": 6,
     "metadata": {},
     "output_type": "execute_result"
    }
   ],
   "source": [
    "dct = {\n",
    "    'reset': 'reset what',\n",
    "    'reset board': 'board fault',\n",
    "    'board add': 'where to add',\n",
    "    'board delete': 'no board at all',\n",
    "    'reboot backplane': 'impossible',\n",
    "    'backplane abort': 'install first'\n",
    "}\n",
    "print(dct.keys())\n",
    "dct.get('reset')\n"
   ]
  },
  {
   "cell_type": "code",
   "execution_count": 24,
   "metadata": {},
   "outputs": [
    {
     "name": "stdout",
     "output_type": "stream",
     "text": [
      "OK\n",
      "s\n"
     ]
    }
   ],
   "source": [
    "stdin = 'res bfsf'\n",
    "if re.match('res[\\se]?[\\ss]?[\\se]?[\\st]?\\sb[\\so]?[\\sa]?[\\sr]?[\\sd]?',stdin):\n",
    "    print('OK')\n",
    "\n",
    "print(stdin[2:3])"
   ]
  },
  {
   "cell_type": "code",
   "execution_count": null,
   "metadata": {},
   "outputs": [],
   "source": []
  }
 ],
 "metadata": {
  "interpreter": {
   "hash": "d88d2ab4b117b0fdfaf0671a13b7bc38b2644f22022f721cb95296f6931d23b1"
  },
  "kernelspec": {
   "display_name": "Python 3.9.7 ('base')",
   "language": "python",
   "name": "python3"
  },
  "language_info": {
   "codemirror_mode": {
    "name": "ipython",
    "version": 3
   },
   "file_extension": ".py",
   "mimetype": "text/x-python",
   "name": "python",
   "nbconvert_exporter": "python",
   "pygments_lexer": "ipython3",
   "version": "3.9.7"
  },
  "orig_nbformat": 4
 },
 "nbformat": 4,
 "nbformat_minor": 2
}
