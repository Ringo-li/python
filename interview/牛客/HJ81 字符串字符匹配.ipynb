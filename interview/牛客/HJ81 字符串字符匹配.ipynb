{
 "cells": [
  {
   "cell_type": "code",
   "execution_count": 3,
   "metadata": {},
   "outputs": [
    {
     "name": "stdout",
     "output_type": "stream",
     "text": [
      "false\n",
      "true\n",
      "false\n",
      "false\n",
      "true\n"
     ]
    }
   ],
   "source": [
    "while True:\n",
    "    try:\n",
    "        s1, s2 = input(), input()\n",
    "        for i in s1:\n",
    "            if i in s2:\n",
    "                continue\n",
    "            else:\n",
    "                print('false')\n",
    "                break\n",
    "        else:\n",
    "            print('true')\n",
    "    except:\n",
    "        break\n",
    "    \n"
   ]
  },
  {
   "cell_type": "markdown",
   "metadata": {},
   "source": [
    "集合支持一系列标准操作，包括并集、交集、差集和对称差集，例如：  \n",
    "  \n",
    "   \n",
    "  \n",
    "a = t | s          # t 和 s的并集  \n",
    "  \n",
    "b = t & s          # t 和 s的交集  \n",
    "  \n",
    "c = t – s          # 求差集（项在t中，但不在s中）  \n",
    "  \n",
    "d = t ^ s          # 对称差集（项在t或s中，但不会同时出现在二者中）  "
   ]
  },
  {
   "cell_type": "code",
   "execution_count": null,
   "metadata": {},
   "outputs": [],
   "source": [
    "while True:\n",
    "    try:\n",
    "        S, T = input(), input()\n",
    "        if set(S) & set(T) == set(S):\n",
    "            print('true')\n",
    "        else:\n",
    "            print('false')\n",
    "    except:\n",
    "        break\n"
   ]
  },
  {
   "cell_type": "code",
   "execution_count": 9,
   "metadata": {},
   "outputs": [
    {
     "name": "stdout",
     "output_type": "stream",
     "text": [
      "{8}\n",
      "{1, 2, 3, 4, 5, 6, 7, 8}\n",
      "{1, 2, 3, 4, 5, 6, 7}\n",
      "{1, 3, 5, 7}\n",
      "{2, 4, 6}\n"
     ]
    }
   ],
   "source": [
    "s1 = {1, 3, 5, 7, 8}\n",
    "s2 = {2, 4, 6, 8}\n",
    "print(s1 & s2)\n",
    "print(s1 | s2)\n",
    "print(s1 ^ s2)\n",
    "print(s1 - s2)\n",
    "print(s2 - s1)"
   ]
  },
  {
   "cell_type": "code",
   "execution_count": null,
   "metadata": {},
   "outputs": [],
   "source": []
  }
 ],
 "metadata": {
  "interpreter": {
   "hash": "d88d2ab4b117b0fdfaf0671a13b7bc38b2644f22022f721cb95296f6931d23b1"
  },
  "kernelspec": {
   "display_name": "Python 3.9.7 ('base')",
   "language": "python",
   "name": "python3"
  },
  "language_info": {
   "codemirror_mode": {
    "name": "ipython",
    "version": 3
   },
   "file_extension": ".py",
   "mimetype": "text/x-python",
   "name": "python",
   "nbconvert_exporter": "python",
   "pygments_lexer": "ipython3",
   "version": "3.9.7"
  },
  "orig_nbformat": 4
 },
 "nbformat": 4,
 "nbformat_minor": 2
}
