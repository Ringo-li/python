{
 "cells": [
  {
   "cell_type": "code",
   "execution_count": 11,
   "metadata": {},
   "outputs": [
    {
     "name": "stdout",
     "output_type": "stream",
     "text": [
      "3 0\n"
     ]
    }
   ],
   "source": [
    "n, nlst = int(input()), [int(i) for i in input().split()]\n",
    "negative = []\n",
    "positive = []\n",
    "for i in nlst:\n",
    "    if i < 0:\n",
    "        negative.append(i)\n",
    "    elif i > 0:\n",
    "        positive.append(i)\n",
    "if len(positive) == 0:\n",
    "    average = 0.0\n",
    "else:\n",
    "    average = sum(positive)/len(positive)\n",
    "print(len(negative), '{:.1f}'.format(average))"
   ]
  }
 ],
 "metadata": {
  "interpreter": {
   "hash": "d88d2ab4b117b0fdfaf0671a13b7bc38b2644f22022f721cb95296f6931d23b1"
  },
  "kernelspec": {
   "display_name": "Python 3.9.7 ('base')",
   "language": "python",
   "name": "python3"
  },
  "language_info": {
   "codemirror_mode": {
    "name": "ipython",
    "version": 3
   },
   "file_extension": ".py",
   "mimetype": "text/x-python",
   "name": "python",
   "nbconvert_exporter": "python",
   "pygments_lexer": "ipython3",
   "version": "3.9.7"
  },
  "orig_nbformat": 4
 },
 "nbformat": 4,
 "nbformat_minor": 2
}
