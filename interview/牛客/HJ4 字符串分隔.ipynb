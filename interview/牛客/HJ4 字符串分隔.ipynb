{
 "cells": [
  {
   "cell_type": "code",
   "execution_count": null,
   "id": "41bff441",
   "metadata": {},
   "outputs": [
    {
     "name": "stdout",
     "output_type": "stream",
     "text": [
      "454352  fsaf dsafsafajut dsds\n",
      "454352  \n",
      "fsaf dsa\n",
      "fsafajut\n",
      " dsds000\n"
     ]
    }
   ],
   "source": [
    "while True:\n",
    "    try:\n",
    "        s = input()\n",
    "        for i in range(0, len(s), 8):\n",
    "            print(s[i:i+8].ljust(8, '0'))\n",
    "    except:\n",
    "        break"
   ]
  },
  {
   "cell_type": "code",
   "execution_count": null,
   "id": "55d61db0",
   "metadata": {},
   "outputs": [
    {
     "name": "stdout",
     "output_type": "stream",
     "text": [
      "fdsfdsf  dsfds fdsfa dsa \n",
      "fdsfdsf \n",
      " dsfds f\n",
      "dsfa dsa\n",
      " 0000000\n",
      "dsafd\n",
      "dsafd000\n",
      "fdf df d dssd;dlfdlfl\n",
      "fdf df d\n",
      " dssd;dl\n",
      "fdlfl000\n"
     ]
    }
   ],
   "source": [
    "while True:\n",
    "    try:\n",
    "        l = input()\n",
    "        for i in range(0, len(l), 8):\n",
    "            print(\"{0:0<8s}\".format(l[i:i+8]))\n",
    "    except:\n",
    "        break"
   ]
  },
  {
   "cell_type": "code",
   "execution_count": null,
   "id": "ecc47c81",
   "metadata": {},
   "outputs": [
    {
     "name": "stdout",
     "output_type": "stream",
     "text": [
      "fdsfds fdsfsa \n",
      "fdsfds f\n",
      "dsfsa 00\n",
      "fds\n",
      "fds00000\n",
      "\n",
      "\n",
      "fds\n",
      "fds00000\n"
     ]
    }
   ],
   "source": [
    "while True:\n",
    "    try:\n",
    "        l = input()\n",
    "        for i in range(0, len(l), 8):\n",
    "            print(\"{:0<8s}\".format(l[i:i+8]))\n",
    "    except:\n",
    "        break"
   ]
  }
 ],
 "metadata": {
  "kernelspec": {
   "display_name": "Python 3 (ipykernel)",
   "language": "python",
   "name": "python3"
  },
  "language_info": {
   "codemirror_mode": {
    "name": "ipython",
    "version": 3
   },
   "file_extension": ".py",
   "mimetype": "text/x-python",
   "name": "python",
   "nbconvert_exporter": "python",
   "pygments_lexer": "ipython3",
   "version": "3.9.7"
  }
 },
 "nbformat": 4,
 "nbformat_minor": 5
}
