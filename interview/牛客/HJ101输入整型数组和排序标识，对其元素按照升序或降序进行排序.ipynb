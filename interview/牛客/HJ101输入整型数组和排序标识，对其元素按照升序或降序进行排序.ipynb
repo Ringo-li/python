{
 "cells": [
  {
   "cell_type": "code",
   "execution_count": 10,
   "metadata": {},
   "outputs": [
    {
     "name": "stdout",
     "output_type": "stream",
     "text": [
      "3\n",
      "65 2 9\n",
      "1\n",
      "65 9 2\n"
     ]
    }
   ],
   "source": [
    "\n",
    "n = int(input())\n",
    "arr = [int(i) for i in input().split()]\n",
    "n_bool = input()\n",
    "\n",
    "arr.sort()\n",
    "if n_bool == '0':\n",
    "    print(' '.join(map(str, arr)))\n",
    "elif n_bool == '1':\n",
    "    arr.reverse()\n",
    "    print(' '.join(map(str, arr)))\n",
    "\n",
    "        "
   ]
  },
  {
   "cell_type": "code",
   "execution_count": 11,
   "metadata": {},
   "outputs": [
    {
     "name": "stdout",
     "output_type": "stream",
     "text": [
      "5\n",
      "34 7 79 4 2 \n",
      "1\n",
      "79 34 7 4 2 "
     ]
    }
   ],
   "source": [
    "n=int(input())\n",
    "d=list(map(int,input().split()))\n",
    "x=int(input())\n",
    "if x == 0:\n",
    "    for i in sorted(d):\n",
    "        print(i,end=\" \")\n",
    "else:\n",
    "    d=sorted(d,reverse=True)\n",
    "    for i in d:\n",
    "        print(i,end=\" \")"
   ]
  },
  {
   "cell_type": "code",
   "execution_count": null,
   "metadata": {},
   "outputs": [],
   "source": []
  }
 ],
 "metadata": {
  "kernelspec": {
   "display_name": "Python 3 (ipykernel)",
   "language": "python",
   "name": "python3"
  },
  "language_info": {
   "codemirror_mode": {
    "name": "ipython",
    "version": 3
   },
   "file_extension": ".py",
   "mimetype": "text/x-python",
   "name": "python",
   "nbconvert_exporter": "python",
   "pygments_lexer": "ipython3",
   "version": "3.9.7"
  }
 },
 "nbformat": 4,
 "nbformat_minor": 4
}
