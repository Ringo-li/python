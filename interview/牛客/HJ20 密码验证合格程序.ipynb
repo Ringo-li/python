{
 "cells": [
  {
   "cell_type": "code",
   "execution_count": 5,
   "metadata": {},
   "outputs": [],
   "source": [
    "while True:\n",
    "    try:\n",
    "        s = input()\n",
    "        def inspect(s):\n",
    "            if s.count(' ') or s.count('\\n') or len(s) <= 8:\n",
    "                return 'NG'\n",
    "\n",
    "            digit = 0\n",
    "            upper = 0\n",
    "            lower = 0\n",
    "            special = 0\n",
    "            for i in s:\n",
    "                if i.isdigit():\n",
    "                    digit = 1\n",
    "                elif i.islower():\n",
    "                    lower =1\n",
    "                elif i.isupper():\n",
    "                    upper = 1\n",
    "                else:\n",
    "                    special = 1\n",
    "            if digit+upper+lower+special < 3:\n",
    "                return 'NG'\n",
    "                \n",
    "            for i in range(len(s)-4):\n",
    "                for j in range(i+2, len(s)-1):\n",
    "                    if s[i:i+3] == s[j:j+3]:\n",
    "                        return 'NG'\n",
    "            return 'OK'\n",
    "        print(inspect(s))\n",
    "    except:\n",
    "        break"
   ]
  },
  {
   "cell_type": "code",
   "execution_count": 2,
   "metadata": {},
   "outputs": [
    {
     "data": {
      "text/plain": [
       "3"
      ]
     },
     "execution_count": 2,
     "metadata": {},
     "output_type": "execute_result"
    }
   ],
   "source": [
    "s = 'wahaha'\n",
    "s.count('a')"
   ]
  },
  {
   "cell_type": "code",
   "execution_count": null,
   "metadata": {},
   "outputs": [],
   "source": []
  }
 ],
 "metadata": {
  "interpreter": {
   "hash": "d88d2ab4b117b0fdfaf0671a13b7bc38b2644f22022f721cb95296f6931d23b1"
  },
  "kernelspec": {
   "display_name": "Python 3.9.7 ('base')",
   "language": "python",
   "name": "python3"
  },
  "language_info": {
   "codemirror_mode": {
    "name": "ipython",
    "version": 3
   },
   "file_extension": ".py",
   "mimetype": "text/x-python",
   "name": "python",
   "nbconvert_exporter": "python",
   "pygments_lexer": "ipython3",
   "version": "3.9.7"
  },
  "orig_nbformat": 4
 },
 "nbformat": 4,
 "nbformat_minor": 2
}
