{
 "cells": [
  {
   "cell_type": "code",
   "execution_count": 10,
   "id": "31a57446",
   "metadata": {},
   "outputs": [
    {
     "name": "stdout",
     "output_type": "stream",
     "text": [
      "i am boy\n",
      "boy am i\n",
      "you ar g'\n",
      "g' ar you\n",
      "dfasdf\n",
      "dfasdf\n"
     ]
    }
   ],
   "source": [
    "while True:\n",
    "    try:\n",
    "        s = input()\n",
    "        print(' '.join(reversed(s.split())))\n",
    "    except:\n",
    "        break"
   ]
  },
  {
   "cell_type": "code",
   "execution_count": null,
   "id": "178a2f25",
   "metadata": {},
   "outputs": [],
   "source": [
    "s=input().split()  #接收输入内容\n",
    "s1=s[::-1]  #把输入内容倒序排列\n",
    "for x in s1:\n",
    "    print(x,end=\" \")  #输出元素之间用空格分隔"
   ]
  },
  {
   "cell_type": "code",
   "execution_count": null,
   "id": "3ffa5e99",
   "metadata": {},
   "outputs": [],
   "source": []
  }
 ],
 "metadata": {
  "kernelspec": {
   "display_name": "Python 3 (ipykernel)",
   "language": "python",
   "name": "python3"
  },
  "language_info": {
   "codemirror_mode": {
    "name": "ipython",
    "version": 3
   },
   "file_extension": ".py",
   "mimetype": "text/x-python",
   "name": "python",
   "nbconvert_exporter": "python",
   "pygments_lexer": "ipython3",
   "version": "3.9.7"
  }
 },
 "nbformat": 4,
 "nbformat_minor": 5
}
