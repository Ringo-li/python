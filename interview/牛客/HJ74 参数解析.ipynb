{
 "cells": [
  {
   "cell_type": "code",
   "execution_count": 2,
   "metadata": {},
   "outputs": [
    {
     "name": "stdout",
     "output_type": "stream",
     "text": [
      "['cd', 'a', '\"cd', 'cd\"', 'a', '\"cd', 'cd\"', '\"cd', 'cd', 'cd\"']\n",
      "5\n",
      "cd\n",
      "cd cd\" cd\n",
      "a\n",
      "cd\"\n",
      "cd\n"
     ]
    }
   ],
   "source": [
    "s = input().split()\n",
    "print(s)\n",
    "lst = []\n",
    "i = 0\n",
    "while i < len(s):\n",
    "    if s[i][0] != '\"':\n",
    "        lst.append(s[i])\n",
    "        i += 1\n",
    "    else:\n",
    "        if s[i][-1] == '\"':\n",
    "            lst.append(s[i][1:-1])\n",
    "        else:\n",
    "            tmp = s[i][1:]\n",
    "            while s[i][-1] != '\"':\n",
    "                i += 1\n",
    "                tmp += ' ' + s[i]\n",
    "            tmp += ' ' + s[i][:-1]\n",
    "            lst.append(tmp)\n",
    "    i += 1\n",
    "print(len(lst))\n",
    "for i in lst:\n",
    "    print(i)\n"
   ]
  },
  {
   "cell_type": "code",
   "execution_count": null,
   "metadata": {},
   "outputs": [],
   "source": [
    "while True:\n",
    "    try:\n",
    "        str1=str(input())\n",
    "        str1=str1.replace(' ','\\n')\n",
    "        e = ''\n",
    "        flag = False\n",
    "        for i in str1:\n",
    "            if i == '\"':  # 经过一次引号则拨动一次开关\n",
    "                flag = not flag\n",
    "            elif flag == True and i == '\\n':\n",
    "                e += ' '\n",
    "            else:\n",
    "                e += i\n",
    "        b = e.count('\\n') + 1\n",
    "        print(b)\n",
    "        print(e)\n",
    "    except:\n",
    "        break\n"
   ]
  }
 ],
 "metadata": {
  "interpreter": {
   "hash": "d88d2ab4b117b0fdfaf0671a13b7bc38b2644f22022f721cb95296f6931d23b1"
  },
  "kernelspec": {
   "display_name": "Python 3.9.7 ('base')",
   "language": "python",
   "name": "python3"
  },
  "language_info": {
   "codemirror_mode": {
    "name": "ipython",
    "version": 3
   },
   "file_extension": ".py",
   "mimetype": "text/x-python",
   "name": "python",
   "nbconvert_exporter": "python",
   "pygments_lexer": "ipython3",
   "version": "3.9.7"
  },
  "orig_nbformat": 4
 },
 "nbformat": 4,
 "nbformat_minor": 2
}
