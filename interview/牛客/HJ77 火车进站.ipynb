{
 "cells": [
  {
   "cell_type": "code",
   "execution_count": 2,
   "metadata": {},
   "outputs": [
    {
     "name": "stdout",
     "output_type": "stream",
     "text": [
      "1 2 3\n",
      "1 3 2\n",
      "2 1 3\n",
      "2 3 1\n",
      "3 2 1\n"
     ]
    }
   ],
   "source": [
    "n = 3\n",
    "nums = '1 2 3'.split()\n",
    "res = []\n",
    "def dfs(wait, stack, out):\n",
    "    if not wait and not stack:\n",
    "        res.append(' '.join(out))\n",
    "    if wait:\n",
    "        dfs(wait[1:], stack + [wait[0]], out)\n",
    "    if stack:\n",
    "        dfs(wait, stack[:-1], out+ [stack[-1]])\n",
    "\n",
    "        \n",
    "\n",
    "dfs(nums, [], [])\n",
    "for i in sorted(res):\n",
    "    print(i)"
   ]
  },
  {
   "cell_type": "code",
   "execution_count": 4,
   "metadata": {},
   "outputs": [
    {
     "name": "stdout",
     "output_type": "stream",
     "text": [
      "[2, 6]\n"
     ]
    }
   ],
   "source": [
    "n = 3\n",
    "nums = '1 2 3'.split()\n",
    "res = []\n",
    "path = []\n",
    "\n",
    "def backtracking(nums, startindex):\n",
    "    if len(path) == len(nums):\n",
    "        res.append(path)\n",
    "        return\n",
    "\n",
    "    for i in range(startindex, len(nums)):\n",
    "        "
   ]
  },
  {
   "cell_type": "code",
   "execution_count": null,
   "metadata": {},
   "outputs": [],
   "source": [
    "#固定的递归方法，需要记住\n",
    "res = [] #定义全局变量\n",
    "\n",
    "def dfs(wait, stack, out):\n",
    "    if not wait and not stack:\n",
    "        res.append(' '.join(map(str, out)))\n",
    "    if wait: # 入栈，一开始一股脑都入栈\n",
    "        dfs(wait[1:], stack + [wait[0]], out)\n",
    "    if stack: # 出栈，之后慢慢出栈\n",
    "        dfs(wait, stack[:-1], out + [stack[-1]])\n",
    "\n",
    "while True:\n",
    "    try:\n",
    "        n, nums = int(input()), list(map(int, input().split()))\n",
    "        dfs(nums, [], [])\n",
    "        for i in sorted(res):\n",
    "            print(i)\n",
    "    except:\n",
    "        break\n",
    "\n"
   ]
  }
 ],
 "metadata": {
  "interpreter": {
   "hash": "3d9ed8596bff362bc93aede9b581c6e6e04e4e735564027361e0f5a7bf7c1a68"
  },
  "kernelspec": {
   "display_name": "Python 3.9.7 ('base')",
   "language": "python",
   "name": "python3"
  },
  "language_info": {
   "codemirror_mode": {
    "name": "ipython",
    "version": 3
   },
   "file_extension": ".py",
   "mimetype": "text/x-python",
   "name": "python",
   "nbconvert_exporter": "python",
   "pygments_lexer": "ipython3",
   "version": "3.9.7"
  },
  "orig_nbformat": 4
 },
 "nbformat": 4,
 "nbformat_minor": 2
}
