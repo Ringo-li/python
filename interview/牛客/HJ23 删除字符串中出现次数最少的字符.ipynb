{
 "cells": [
  {
   "cell_type": "code",
   "execution_count": 31,
   "id": "533ddd77",
   "metadata": {},
   "outputs": [
    {
     "name": "stdout",
     "output_type": "stream",
     "text": [
      "aaabbbacdbzzore\n",
      "aaabbbabzz\n"
     ]
    }
   ],
   "source": [
    "while True:\n",
    "    try:\n",
    "        s = input()\n",
    "        \n",
    "        nlst = []\n",
    "        for i in s:\n",
    "            nlst.append(s.count(i))\n",
    "        slst = []\n",
    "        for x,y in zip(nlst,s):\n",
    "            if x == min(nlst):\n",
    "                s = s.replace(y, '')\n",
    "        print(s)\n",
    "    except:\n",
    "        break"
   ]
  },
  {
   "cell_type": "code",
   "execution_count": null,
   "id": "7b8f4175",
   "metadata": {},
   "outputs": [],
   "source": []
  }
 ],
 "metadata": {
  "kernelspec": {
   "display_name": "Python 3 (ipykernel)",
   "language": "python",
   "name": "python3"
  },
  "language_info": {
   "codemirror_mode": {
    "name": "ipython",
    "version": 3
   },
   "file_extension": ".py",
   "mimetype": "text/x-python",
   "name": "python",
   "nbconvert_exporter": "python",
   "pygments_lexer": "ipython3",
   "version": "3.9.7"
  }
 },
 "nbformat": 4,
 "nbformat_minor": 5
}
