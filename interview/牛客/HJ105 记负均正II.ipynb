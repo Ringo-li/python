{
 "cells": [
  {
   "cell_type": "code",
   "execution_count": 1,
   "metadata": {},
   "outputs": [
    {
     "name": "stdout",
     "output_type": "stream",
     "text": [
      "3\n",
      "0.0\n"
     ]
    }
   ],
   "source": [
    "nlst = []\n",
    "while True:\n",
    "    try:\n",
    "        nlst.append(int(input()))\n",
    "    except:\n",
    "        count = 0\n",
    "        positive = []\n",
    "        for i in nlst:\n",
    "            if i < 0:\n",
    "                count += 1\n",
    "            else:\n",
    "                positive.append(i)\n",
    "        print(count)\n",
    "        if sum(positive):\n",
    "            print('{:.1f}'.format(sum(positive)/len(positive)))\n",
    "        else:\n",
    "            print(0.0)\n",
    "        break"
   ]
  },
  {
   "cell_type": "code",
   "execution_count": null,
   "metadata": {},
   "outputs": [],
   "source": []
  }
 ],
 "metadata": {
  "interpreter": {
   "hash": "d88d2ab4b117b0fdfaf0671a13b7bc38b2644f22022f721cb95296f6931d23b1"
  },
  "kernelspec": {
   "display_name": "Python 3.9.7 ('base')",
   "language": "python",
   "name": "python3"
  },
  "language_info": {
   "codemirror_mode": {
    "name": "ipython",
    "version": 3
   },
   "file_extension": ".py",
   "mimetype": "text/x-python",
   "name": "python",
   "nbconvert_exporter": "python",
   "pygments_lexer": "ipython3",
   "version": "3.9.7"
  },
  "orig_nbformat": 4
 },
 "nbformat": 4,
 "nbformat_minor": 2
}
