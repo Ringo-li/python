{
 "cells": [
  {
   "cell_type": "markdown",
   "id": "d7674211",
   "metadata": {},
   "source": [
    "### 十六进制转十进制"
   ]
  },
  {
   "cell_type": "code",
   "execution_count": 12,
   "id": "ad446f03",
   "metadata": {},
   "outputs": [
    {
     "name": "stdout",
     "output_type": "stream",
     "text": [
      "aa\n",
      "170\n"
     ]
    }
   ],
   "source": [
    "s16 = input()\n",
    "print(int(s16, 16))\n",
    "#  0xAA"
   ]
  },
  {
   "cell_type": "markdown",
   "id": "6f2d1c31",
   "metadata": {},
   "source": [
    "### 二进制转十进制"
   ]
  },
  {
   "cell_type": "code",
   "execution_count": 4,
   "id": "c63f56fb",
   "metadata": {},
   "outputs": [
    {
     "name": "stdout",
     "output_type": "stream",
     "text": [
      "10011001\n",
      "9\n"
     ]
    }
   ],
   "source": [
    "s = input(')\n",
    "print(int(s, 2))\n",
    "# 1001"
   ]
  },
  {
   "cell_type": "markdown",
   "id": "a8c707ec",
   "metadata": {},
   "source": [
    "### 八进制转十进制"
   ]
  },
  {
   "cell_type": "code",
   "execution_count": 10,
   "id": "5a09c16c",
   "metadata": {},
   "outputs": [
    {
     "name": "stdout",
     "output_type": "stream",
     "text": [
      "17\n",
      "15\n"
     ]
    }
   ],
   "source": [
    "s = input()\n",
    "print(int(s, 8))\n",
    "# 0o17 1001"
   ]
  },
  {
   "cell_type": "markdown",
   "id": "dfd81d6f",
   "metadata": {},
   "source": [
    "### 十进制转十六进制"
   ]
  },
  {
   "cell_type": "code",
   "execution_count": 24,
   "id": "94fe9b73",
   "metadata": {},
   "outputs": [
    {
     "name": "stdout",
     "output_type": "stream",
     "text": [
      "300\n",
      "0x12c\n"
     ]
    }
   ],
   "source": [
    "s = int(input())\n",
    "print(hex(s))"
   ]
  },
  {
   "cell_type": "markdown",
   "id": "659ab3fe",
   "metadata": {},
   "source": [
    "### 十进制转二进制"
   ]
  },
  {
   "cell_type": "code",
   "execution_count": 25,
   "id": "7a8426e1",
   "metadata": {},
   "outputs": [
    {
     "name": "stdout",
     "output_type": "stream",
     "text": [
      "100\n",
      "0b1100100\n"
     ]
    }
   ],
   "source": [
    "s = int(input())\n",
    "print(bin(s))"
   ]
  },
  {
   "cell_type": "markdown",
   "id": "5561ae73",
   "metadata": {},
   "source": [
    "### 十进制转八进制"
   ]
  },
  {
   "cell_type": "code",
   "execution_count": 26,
   "id": "587301a3",
   "metadata": {
    "scrolled": true
   },
   "outputs": [
    {
     "name": "stdout",
     "output_type": "stream",
     "text": [
      "100\n",
      "0o144\n"
     ]
    }
   ],
   "source": [
    "s =  int(input())\n",
    "print(oct(s))"
   ]
  },
  {
   "cell_type": "markdown",
   "id": "ef3ecc8c",
   "metadata": {},
   "source": [
    "### 自定义十六进制转十进制"
   ]
  },
  {
   "cell_type": "code",
   "execution_count": 7,
   "id": "74a787e8",
   "metadata": {
    "scrolled": true
   },
   "outputs": [
    {
     "name": "stdout",
     "output_type": "stream",
     "text": [
      "21\n"
     ]
    },
    {
     "ename": "TypeError",
     "evalue": "list indices must be integers or slices, not str",
     "output_type": "error",
     "traceback": [
      "\u001b[1;31m---------------------------------------------------------------------------\u001b[0m",
      "\u001b[1;31mTypeError\u001b[0m                                 Traceback (most recent call last)",
      "\u001b[1;32m~\\AppData\\Local\\Temp/ipykernel_13728/2739105289.py\u001b[0m in \u001b[0;36m<module>\u001b[1;34m\u001b[0m\n\u001b[0;32m      8\u001b[0m     \u001b[0mprint\u001b[0m\u001b[1;33m(\u001b[0m\u001b[0msum\u001b[0m\u001b[1;33m)\u001b[0m\u001b[1;33m\u001b[0m\u001b[1;33m\u001b[0m\u001b[0m\n\u001b[0;32m      9\u001b[0m \u001b[1;33m\u001b[0m\u001b[0m\n\u001b[1;32m---> 10\u001b[1;33m \u001b[0msev\u001b[0m\u001b[1;33m(\u001b[0m\u001b[0ms\u001b[0m\u001b[1;33m)\u001b[0m\u001b[1;33m\u001b[0m\u001b[1;33m\u001b[0m\u001b[0m\n\u001b[0m\u001b[0;32m     11\u001b[0m \u001b[1;31m# print(list(reversed(s)))\u001b[0m\u001b[1;33m\u001b[0m\u001b[1;33m\u001b[0m\u001b[0m\n",
      "\u001b[1;32m~\\AppData\\Local\\Temp/ipykernel_13728/2739105289.py\u001b[0m in \u001b[0;36msev\u001b[1;34m(num)\u001b[0m\n\u001b[0;32m      5\u001b[0m     \u001b[0msum1\u001b[0m \u001b[1;33m=\u001b[0m \u001b[1;36m0\u001b[0m\u001b[1;33m\u001b[0m\u001b[1;33m\u001b[0m\u001b[0m\n\u001b[0;32m      6\u001b[0m     \u001b[1;32mfor\u001b[0m \u001b[0mi\u001b[0m \u001b[1;32min\u001b[0m \u001b[0mlst\u001b[0m\u001b[1;33m:\u001b[0m\u001b[1;33m\u001b[0m\u001b[1;33m\u001b[0m\u001b[0m\n\u001b[1;32m----> 7\u001b[1;33m         \u001b[0msum1\u001b[0m \u001b[1;33m+=\u001b[0m \u001b[0mint\u001b[0m\u001b[1;33m(\u001b[0m\u001b[0mlst\u001b[0m\u001b[1;33m[\u001b[0m\u001b[0mi\u001b[0m\u001b[1;33m]\u001b[0m\u001b[1;33m)\u001b[0m\u001b[1;33m*\u001b[0m\u001b[1;33m(\u001b[0m\u001b[1;36m16\u001b[0m\u001b[1;33m**\u001b[0m\u001b[0mi\u001b[0m\u001b[1;33m)\u001b[0m\u001b[1;33m\u001b[0m\u001b[1;33m\u001b[0m\u001b[0m\n\u001b[0m\u001b[0;32m      8\u001b[0m     \u001b[0mprint\u001b[0m\u001b[1;33m(\u001b[0m\u001b[0msum\u001b[0m\u001b[1;33m)\u001b[0m\u001b[1;33m\u001b[0m\u001b[1;33m\u001b[0m\u001b[0m\n\u001b[0;32m      9\u001b[0m \u001b[1;33m\u001b[0m\u001b[0m\n",
      "\u001b[1;31mTypeError\u001b[0m: list indices must be integers or slices, not str"
     ]
    }
   ],
   "source": [
    "s = input()\n",
    "\n",
    "def sev(num):\n",
    "    lst = list(reversed(s))\n",
    "    sum1 = 0\n",
    "    for i in lst:\n",
    "        sum1 += int(lst[i])*(16**i)\n",
    "    print(sum)\n",
    "\n",
    "sev(s)\n",
    "# print(list(reversed(s)))"
   ]
  },
  {
   "cell_type": "code",
   "execution_count": null,
   "id": "4031dc67",
   "metadata": {},
   "outputs": [],
   "source": []
  }
 ],
 "metadata": {
  "kernelspec": {
   "display_name": "Python 3 (ipykernel)",
   "language": "python",
   "name": "python3"
  },
  "language_info": {
   "codemirror_mode": {
    "name": "ipython",
    "version": 3
   },
   "file_extension": ".py",
   "mimetype": "text/x-python",
   "name": "python",
   "nbconvert_exporter": "python",
   "pygments_lexer": "ipython3",
   "version": "3.9.7"
  }
 },
 "nbformat": 4,
 "nbformat_minor": 5
}
