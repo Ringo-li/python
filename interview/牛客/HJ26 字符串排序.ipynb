{
 "cells": [
  {
   "cell_type": "code",
   "execution_count": 27,
   "metadata": {},
   "outputs": [
    {
     "name": "stdout",
     "output_type": "stream",
     "text": [
      "A aaAAbc dFgghh: iimM nNn oooos Sttuuuy (2012/8).\n"
     ]
    }
   ],
   "source": [
    "s = input()\n",
    "content = []\n",
    "\n",
    "for j in range(65,91):\n",
    "    for i in s:\n",
    "        if i.isalpha():\n",
    "            if ord(i) == j or ord(i) == j+32:\n",
    "                content.append(i)\n",
    "                continue\n",
    "for i in range(len(s)):\n",
    "    if not s[i].isalpha():\n",
    "        content.insert(i,s[i])\n",
    "print(''.join(content))\n"
   ]
  }
 ],
 "metadata": {
  "interpreter": {
   "hash": "d88d2ab4b117b0fdfaf0671a13b7bc38b2644f22022f721cb95296f6931d23b1"
  },
  "kernelspec": {
   "display_name": "Python 3.9.7 ('base')",
   "language": "python",
   "name": "python3"
  },
  "language_info": {
   "codemirror_mode": {
    "name": "ipython",
    "version": 3
   },
   "file_extension": ".py",
   "mimetype": "text/x-python",
   "name": "python",
   "nbconvert_exporter": "python",
   "pygments_lexer": "ipython3",
   "version": "3.9.7"
  },
  "orig_nbformat": 4
 },
 "nbformat": 4,
 "nbformat_minor": 2
}
