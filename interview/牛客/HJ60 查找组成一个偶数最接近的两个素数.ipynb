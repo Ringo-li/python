{
 "cells": [
  {
   "cell_type": "code",
   "execution_count": 17,
   "metadata": {},
   "outputs": [
    {
     "name": "stdout",
     "output_type": "stream",
     "text": [
      "13 17\n"
     ]
    }
   ],
   "source": [
    "n = int(input())\n",
    "for i in range(n//2,n):\n",
    "    j = 0\n",
    "    for x in range(int(i**0.5)+1):\n",
    "        if x == 0 or x == 1:\n",
    "            continue\n",
    "        elif i % x == 0:\n",
    "            j += 1\n",
    "        else:\n",
    "            continue\n",
    "    if j == 0:\n",
    "        k = 0\n",
    "        for y in range(int((n-i)**0.5)+1):\n",
    "            if y == 0 or y == 1:\n",
    "                continue\n",
    "            elif  (n-i) % y ==0:\n",
    "                k += 1\n",
    "            else:\n",
    "                continue\n",
    "        if k == 0:\n",
    "            print(n-i)\n",
    "            print(i)\n",
    "            break"
   ]
  },
  {
   "cell_type": "code",
   "execution_count": 20,
   "metadata": {},
   "outputs": [
    {
     "name": "stdout",
     "output_type": "stream",
     "text": [
      "7\n",
      "13\n"
     ]
    }
   ],
   "source": [
    "def isSuShu(x):\n",
    "    if x <= 2:\n",
    "        return True\n",
    "    else:\n",
    "        for i in range(2, int(x ** 0.5) + 1):\n",
    "            if x % i == 0:\n",
    "                return False\n",
    "        else:\n",
    "            return True\n",
    "while True:\n",
    "    try:\n",
    "\n",
    "        n = int(input())\n",
    "\n",
    "        for i in range(int(n / 2), n):\n",
    "            if isSuShu(i) and isSuShu(n - i):\n",
    "                print(n - i)\n",
    "                print(i)\n",
    "                break\n",
    "    except:\n",
    "        break\n"
   ]
  },
  {
   "cell_type": "code",
   "execution_count": null,
   "metadata": {},
   "outputs": [],
   "source": []
  }
 ],
 "metadata": {
  "interpreter": {
   "hash": "d88d2ab4b117b0fdfaf0671a13b7bc38b2644f22022f721cb95296f6931d23b1"
  },
  "kernelspec": {
   "display_name": "Python 3.9.7 ('base')",
   "language": "python",
   "name": "python3"
  },
  "language_info": {
   "codemirror_mode": {
    "name": "ipython",
    "version": 3
   },
   "file_extension": ".py",
   "mimetype": "text/x-python",
   "name": "python",
   "nbconvert_exporter": "python",
   "pygments_lexer": "ipython3",
   "version": "3.9.7"
  },
  "orig_nbformat": 4
 },
 "nbformat": 4,
 "nbformat_minor": 2
}
