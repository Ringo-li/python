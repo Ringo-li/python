{
 "cells": [
  {
   "cell_type": "code",
   "execution_count": 86,
   "id": "0b4c4a3b",
   "metadata": {},
   "outputs": [],
   "source": [
    "while True:\n",
    "    try:\n",
    "        s = input()\n",
    "        dct = { '2':'abc', '3':'def', '4':'ghi', '5': 'jkl','6': 'mno', '7': 'pqrs', '8': 'tuv', '9': 'wxyz' }\n",
    "\n",
    "        for i in s:\n",
    "            if i == 'Z':\n",
    "                print('a', end='')\n",
    "            elif 65 <= ord(i) <= 90: \n",
    "                print(chr(ord(i)+33), end='')\n",
    "            elif 48 <= ord(i) <= 57:\n",
    "                print(i, end='')\n",
    "            for x in dct.keys():\n",
    "                if i in dct[x]:\n",
    "                    print(x, end='')        \n",
    "    except:\n",
    "        break"
   ]
  },
  {
   "cell_type": "code",
   "execution_count": 83,
   "id": "dcdbfd5c",
   "metadata": {},
   "outputs": [
    {
     "data": {
      "text/plain": [
       "57"
      ]
     },
     "execution_count": 83,
     "metadata": {},
     "output_type": "execute_result"
    }
   ],
   "source": [
    "data = input()\n",
    "password_list = []\n",
    "for item in data:\n",
    "    if item.islower():\n",
    "        dict_list = {'abc':2,'def':3,'ghi':4,'jkl':5,'mno':6,'pqrs':7,'tuv':8,'wxyz':9 }\n",
    "        for key in dict_list:\n",
    "            if item in key:\n",
    "                password_list.append(str(dict_list[key]))\n",
    "            if item == 0:\n",
    "                password_list.append('0')\n",
    "            if item == 1:\n",
    "                password_list.append('1')\n",
    "    if item.isupper():\n",
    "        old_ord = ord(item.lower())\n",
    "        if old_ord == 122:\n",
    "            new_ord = 97\n",
    "        else:\n",
    "            new_ord = old_ord + 1\n",
    "        new_letter = chr(new_ord)\n",
    "        password_list.append(new_letter)\n",
    "    if item.isdigit():\n",
    "        password_list.append(str(item))\n",
    "print(''.join(password_list))\n"
   ]
  }
 ],
 "metadata": {
  "kernelspec": {
   "display_name": "Python 3 (ipykernel)",
   "language": "python",
   "name": "python3"
  },
  "language_info": {
   "codemirror_mode": {
    "name": "ipython",
    "version": 3
   },
   "file_extension": ".py",
   "mimetype": "text/x-python",
   "name": "python",
   "nbconvert_exporter": "python",
   "pygments_lexer": "ipython3",
   "version": "3.9.7"
  }
 },
 "nbformat": 4,
 "nbformat_minor": 5
}
