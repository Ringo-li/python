{
 "cells": [
  {
   "cell_type": "code",
   "execution_count": 4,
   "metadata": {},
   "outputs": [
    {
     "name": "stdout",
     "output_type": "stream",
     "text": [
      "8 2\n",
      "A:2\n",
      "6 2\n",
      "B:2\n",
      "4 1\n",
      "C:1\n",
      "Invalid:3\n"
     ]
    }
   ],
   "source": [
    "content = []\n",
    "for _ in range(4):\n",
    "    content.append(input())\n",
    "candidate_quantity, candidate_list, vote_quantity, vote_list = content\n",
    "invalid = len(vote_list.split())\n",
    "for candidate in candidate_list.split():\n",
    "    # print(invalid,vote_list.split().count(candidate))\n",
    "    invalid -= vote_list.split().count(candidate)\n",
    "    print(candidate+ ' : ' + str(vote_list.split().count(candidate)))\n",
    "print('Invalid : '+str(invalid))"
   ]
  },
  {
   "cell_type": "code",
   "execution_count": null,
   "metadata": {},
   "outputs": [],
   "source": []
  }
 ],
 "metadata": {
  "interpreter": {
   "hash": "d88d2ab4b117b0fdfaf0671a13b7bc38b2644f22022f721cb95296f6931d23b1"
  },
  "kernelspec": {
   "display_name": "Python 3.9.7 ('base')",
   "language": "python",
   "name": "python3"
  },
  "language_info": {
   "codemirror_mode": {
    "name": "ipython",
    "version": 3
   },
   "file_extension": ".py",
   "mimetype": "text/x-python",
   "name": "python",
   "nbconvert_exporter": "python",
   "pygments_lexer": "ipython3",
   "version": "3.9.7"
  },
  "orig_nbformat": 4
 },
 "nbformat": 4,
 "nbformat_minor": 2
}
