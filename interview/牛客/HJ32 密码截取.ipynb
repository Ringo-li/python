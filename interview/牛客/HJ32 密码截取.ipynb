{
 "cells": [
  {
   "cell_type": "code",
   "execution_count": 6,
   "metadata": {},
   "outputs": [
    {
     "name": "stdout",
     "output_type": "stream",
     "text": [
      "12\n"
     ]
    }
   ],
   "source": [
    "s = input()\n",
    "# index1 = 0\n",
    "# index2 = 0\n",
    "# length = 0\n",
    "total = []\n",
    "i = 0\n",
    "while i <= len(s):\n",
    "    if i < 1:\n",
    "        i = index1 = index2 = length = 1\n",
    "    elif s[index1:index1+length] == s[index2:index2+length][::-1]:\n",
    "            total.append(2 * length) \n",
    "            length += 1\n",
    "            index1 = index1 - 1\n",
    "            index2 = index1 + length\n",
    "    elif s[index1:index1+length] == s[index2-1:index2+length-1][::-1]:\n",
    "            total.append(2 * length -1)\n",
    "            length += 1\n",
    "            index1 = index1 - 1\n",
    "            index2 = index1 + length\n",
    "    else:\n",
    "        i += 1\n",
    "        index1 = index2 = i\n",
    "        length = 1\n",
    "        \n",
    "print(max(total))\n",
    "\n",
    "    \n"
   ]
  },
  {
   "cell_type": "code",
   "execution_count": null,
   "metadata": {},
   "outputs": [],
   "source": []
  },
  {
   "cell_type": "code",
   "execution_count": null,
   "metadata": {},
   "outputs": [],
   "source": []
  }
 ],
 "metadata": {
  "interpreter": {
   "hash": "d88d2ab4b117b0fdfaf0671a13b7bc38b2644f22022f721cb95296f6931d23b1"
  },
  "kernelspec": {
   "display_name": "Python 3.9.7 ('base')",
   "language": "python",
   "name": "python3"
  },
  "language_info": {
   "codemirror_mode": {
    "name": "ipython",
    "version": 3
   },
   "file_extension": ".py",
   "mimetype": "text/x-python",
   "name": "python",
   "nbconvert_exporter": "python",
   "pygments_lexer": "ipython3",
   "version": "3.9.7"
  },
  "orig_nbformat": 4
 },
 "nbformat": 4,
 "nbformat_minor": 2
}
