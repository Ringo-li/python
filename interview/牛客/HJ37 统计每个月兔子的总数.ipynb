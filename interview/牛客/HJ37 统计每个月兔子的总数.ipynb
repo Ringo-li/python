{
 "cells": [
  {
   "cell_type": "code",
   "execution_count": 30,
   "id": "b835aec6",
   "metadata": {},
   "outputs": [],
   "source": [
    "while True:\n",
    "    try:\n",
    "        n = int(input())\n",
    "        def f(n):\n",
    "            if n < 3:\n",
    "                return 1\n",
    "            else:                \n",
    "                return f(n-1)+f(n-2)\n",
    "        print(f(n))\n",
    "    except:\n",
    "        break"
   ]
  },
  {
   "cell_type": "code",
   "execution_count": 20,
   "id": "3b535079",
   "metadata": {},
   "outputs": [
    {
     "name": "stdout",
     "output_type": "stream",
     "text": [
      "6\n",
      "8\n"
     ]
    }
   ],
   "source": [
    "while True:\n",
    "    try:\n",
    "        #获取输入数据\n",
    "        data1 = int(input())\n",
    "        #设置初值\n",
    "        #一个月兔子个数\n",
    "        N1 = 1\n",
    "        #两个月兔子个数\n",
    "        N2 = 0\n",
    "        #三个月以及三个月以上兔子个数\n",
    "        N3 = 0\n",
    "        for n in range(1,data1):\n",
    "            N3 = N3 + N2\n",
    "            N2 = N1\n",
    "            N1 = N3\n",
    "        print(N1+N2+N3)\n",
    "       \n",
    "        \n",
    "    except:\n",
    "        break\n"
   ]
  },
  {
   "cell_type": "code",
   "execution_count": 31,
   "id": "040dd056",
   "metadata": {},
   "outputs": [],
   "source": [
    "# 递归法\n",
    "while True:\n",
    "    try:\n",
    "        month=int(input())\n",
    "        n=month-1\n",
    "        def func(n):\n",
    "            if n<2:#基线条件\n",
    "                return 1\n",
    "            else:#递归条件\n",
    "                return func(n-1)+func(n-2)\n",
    "        print(func(n))\n",
    "    except:\n",
    "        break\n"
   ]
  },
  {
   "cell_type": "code",
   "execution_count": 27,
   "id": "38e287b0",
   "metadata": {},
   "outputs": [
    {
     "name": "stdout",
     "output_type": "stream",
     "text": [
      "6\n",
      "6\n",
      "8\n"
     ]
    }
   ],
   "source": [
    "# 循环列表\n",
    "import sys\n",
    "s = input()\n",
    "month=int(s)\n",
    "L=[]\n",
    "print(month)\n",
    "for i in range(month):\n",
    "    if i<2:#前两个月都为1\n",
    "        total=1\n",
    "        L.append(total)\n",
    "    else:\n",
    "        total=L[i-1]+L[i-2]#之后均为前两个数的和\n",
    "        L.append(total)\n",
    "print(L[-1])#最后的列表L=[1, 1, 2, 3, 5, 8, 13, 21, 34]"
   ]
  },
  {
   "cell_type": "markdown",
   "id": "5246ec21",
   "metadata": {},
   "source": [
    "这道题目不是很难，但是我们必须要深刻理解题目的含义。\n",
    "\n",
    "根据题意，我们可以知道，兔子有三种状态:\n",
    "\n",
    "（1）年龄为3个月及以上：可以生产，设为num。\n",
    "\n",
    "（2）年龄为2个月：不可以生产，设为num2。\n",
    "\n",
    "（3）年龄为1个月：不可生产，刚出生，设为num1。\n",
    "\n",
    "我们可以先分析输入输出，可以得出，我们最开始获得的是一只一个月的兔子，并不是一只成年的兔子，因此在最初的两个月中，该兔子需要成长，不能生育，这是需要特别注意的，题目没有具体说清楚。\n",
    "\n",
    "因此，我们可以假设num，num1，num2初始值为0，针对第n月的情况，我们可以使用for循环处理，在循环中，需要特别处理前两个月的情况，因为这两个月，没有成年的兔子可以生育，当到达第三个月以及以后时，我们可以按照正常的逻辑进行处理。\n",
    "\n",
    "首先，我们先讨论特例的情况。当n=1时，此时三种兔子都是0，加入第一只小兔子，设num1=1；当n=2时，没有成年的兔子可以生产，此时有一只兔子的年龄增加一岁。\n",
    "\n",
    "当n>=3时，此时，已有可以生产的成年兔子了，num2增加一月，此时成年兔子为num=num+num2，而num1中的兔子年龄增加一月，num2=num1。当月新出生的兔子num1=num。\n",
    "\n",
    "最后输出三种兔子的总和就是最终的结果。"
   ]
  },
  {
   "cell_type": "code",
   "execution_count": null,
   "id": "f69065ad",
   "metadata": {},
   "outputs": [],
   "source": [
    "while True:\n",
    "    try:\n",
    "        n = int(input())\n",
    "        num = 0\n",
    "        num1 = 0\n",
    "        num2 = 0\n",
    "        for i in range(n):\n",
    "            num += num2\n",
    "            num2 = num1\n",
    "            if num==0 and num2 == 0:\n",
    "                num1 = 1\n",
    "            elif num==0 and num2 == 1:\n",
    "                num1 = 0\n",
    "            else:\n",
    "                num1 = num \n",
    "        print(num+num1+num2)\n",
    "        \n",
    "    except:\n",
    "        break\n"
   ]
  }
 ],
 "metadata": {
  "kernelspec": {
   "display_name": "Python 3 (ipykernel)",
   "language": "python",
   "name": "python3"
  },
  "language_info": {
   "codemirror_mode": {
    "name": "ipython",
    "version": 3
   },
   "file_extension": ".py",
   "mimetype": "text/x-python",
   "name": "python",
   "nbconvert_exporter": "python",
   "pygments_lexer": "ipython3",
   "version": "3.9.7"
  }
 },
 "nbformat": 4,
 "nbformat_minor": 5
}
