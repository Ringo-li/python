{
 "cells": [
  {
   "cell_type": "code",
   "execution_count": 41,
   "id": "d9392b90",
   "metadata": {},
   "outputs": [
    {
     "name": "stdout",
     "output_type": "stream",
     "text": [
      "1qazxsw23 edcvfr45tgbn hy67uj m,ki89ol.\\\\/;p0-=\\\\][\n",
      "26\n",
      "3\n",
      "10\n",
      "12\n"
     ]
    }
   ],
   "source": [
    "while True:\n",
    "    try:\n",
    "        s = input()\n",
    "        dct = {'alp': 0, 'spc': 0, 'dgt': 0, 'oth': 0}\n",
    "        for i in s:\n",
    "            if i.isalpha():\n",
    "                dct['alp'] += 1\n",
    "            elif i.isspace():\n",
    "                dct['spc'] += 1\n",
    "            elif i.isdigit():\n",
    "                dct['dgt'] += 1\n",
    "            else:\n",
    "                dct['oth'] += 1\n",
    "        for i in dct.values():\n",
    "            print(i)\n",
    "            \n",
    "    except:\n",
    "        break"
   ]
  },
  {
   "cell_type": "code",
   "execution_count": 40,
   "id": "229fede7",
   "metadata": {},
   "outputs": [
    {
     "name": "stdout",
     "output_type": "stream",
     "text": [
      "1qazxsw23 edcvfr45tgbn hy67uj m,ki89ol.\\\\/;p0-=\\\\][\n",
      "26\n",
      "3\n",
      "10\n",
      "12\n"
     ]
    }
   ],
   "source": [
    "import re\n",
    "while True:\n",
    "    try:\n",
    "        s =  input()\n",
    "        alp = re.findall(r'[a-zA-Z]', s)\n",
    "        spc = re.findall(r'\\s', s)\n",
    "        dgt = re.findall(r'\\d', s)\n",
    "        oth = len(s) - len(alp) - len(spc) - len(dgt)\n",
    "        print(len(alp))\n",
    "        print(len(spc))\n",
    "        print(len(dgt))\n",
    "        print(oth)\n",
    "    except:\n",
    "        break"
   ]
  },
  {
   "cell_type": "code",
   "execution_count": null,
   "id": "8c16c920",
   "metadata": {},
   "outputs": [],
   "source": []
  }
 ],
 "metadata": {
  "kernelspec": {
   "display_name": "Python 3 (ipykernel)",
   "language": "python",
   "name": "python3"
  },
  "language_info": {
   "codemirror_mode": {
    "name": "ipython",
    "version": 3
   },
   "file_extension": ".py",
   "mimetype": "text/x-python",
   "name": "python",
   "nbconvert_exporter": "python",
   "pygments_lexer": "ipython3",
   "version": "3.9.7"
  }
 },
 "nbformat": 4,
 "nbformat_minor": 5
}
