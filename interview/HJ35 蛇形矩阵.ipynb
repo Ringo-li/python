{
 "cells": [
  {
   "cell_type": "code",
   "execution_count": 1,
   "id": "3695ae88",
   "metadata": {},
   "outputs": [
    {
     "name": "stdout",
     "output_type": "stream",
     "text": [
      "4\n",
      "1 3 6 10\n",
      "2 5 9\n",
      "4 8\n",
      "7\n",
      "5\n",
      "1 3 6 10 15\n",
      "2 5 9 14\n",
      "4 8 13\n",
      "7 12\n",
      "11\n",
      "6\n",
      "1 3 6 10 15 21\n",
      "2 5 9 14 20\n",
      "4 8 13 19\n",
      "7 12 18\n",
      "11 17\n",
      "16\n"
     ]
    }
   ],
   "source": [
    "while True:\n",
    "    try:\n",
    "        n = int(input())\n",
    "        lst = []\n",
    "        per = 1 \n",
    "        for j in range(1, n+1):\n",
    "            tmp = []\n",
    "            for i in range(j):\n",
    "                tmp.append(per)\n",
    "                per += 1\n",
    "            lst.append(tmp)\n",
    "\n",
    "        res = []\n",
    "        for y in range(1,n+1):\n",
    "            tmp = []\n",
    "            for x in lst:      \n",
    "                try:\n",
    "                    tmp.append(x.pop())\n",
    "                except:\n",
    "                    continue\n",
    "            res.append(tmp)\n",
    "\n",
    "        for i in res:\n",
    "            print(' '.join([str(j) for j in i]))\n",
    "    except:\n",
    "        break"
   ]
  },
  {
   "cell_type": "markdown",
   "id": "8ed26a1c",
   "metadata": {},
   "source": [
    "观察第一行的规律符合累加求和公式；(n+1)n/2  \n",
    "第二行的规律则是第一行的 ((n+1)n/2) - 1  \n",
    "第三行的规律则是第一行的 ((n+1)n/2) - 2  \n",
    "第四行的规律则是第一行的 ((n+1)n/2) - 3  \n",
    "当i = 1 时，j = 1,2,3,4 进入循环；  \n",
    "当i = 2 时，j = 2,3,4  \n",
    "当i = 3 时，j = 3,4  \n",
    "当i = 4 时，j = 4  "
   ]
  },
  {
   "cell_type": "code",
   "execution_count": 4,
   "id": "6ad35775",
   "metadata": {},
   "outputs": [
    {
     "name": "stdout",
     "output_type": "stream",
     "text": [
      "6\n",
      "1 3 6 10 15 21 \n",
      "2 5 9 14 20 \n",
      "4 8 13 19 \n",
      "7 12 18 \n",
      "11 17 \n",
      "16 \n"
     ]
    }
   ],
   "source": [
    "n = int(input().strip())\n",
    "for i in range(1,n+1) :\n",
    "    for j in range(i,n+1) :\n",
    "        print(int(((j+j**2)/2)-i+1),end = ' ')\n",
    "    print()"
   ]
  },
  {
   "cell_type": "code",
   "execution_count": 30,
   "id": "fc2cab1b",
   "metadata": {},
   "outputs": [
    {
     "name": "stdout",
     "output_type": "stream",
     "text": [
      "5\n",
      "1 3 6 10 15\n",
      "2 5 9 14\n",
      "4 8 13\n",
      "7 12\n",
      "11\n",
      "6\n",
      "1 3 6 10 15 21\n",
      "2 5 9 14 20\n",
      "4 8 13 19\n",
      "7 12 18\n",
      "11 17\n",
      "16\n",
      "1\n",
      "1\n",
      "2\n",
      "1 3\n",
      "2\n"
     ]
    }
   ],
   "source": [
    "while 1:\n",
    "    try:\n",
    "        num = int(input())\n",
    "        for i in range(num):\n",
    "            if i == 0: # 确定第一行的数据\n",
    "                res = [(x+1)*(x+2)//2 for x in range(num)]\n",
    "            else: # 剩下的行数只需要在上一行的基础上，从列表下表第一个元素开始减一，即为当前行数据\n",
    "                res = [x-1 for x in res[1:]]\n",
    "            print(' '.join(map(str, res))) # 通过使用map 函数将list中的int类型变成string 类型\n",
    "    except:\n",
    "        break"
   ]
  },
  {
   "cell_type": "code",
   "execution_count": null,
   "id": "be730d0e",
   "metadata": {},
   "outputs": [],
   "source": []
  }
 ],
 "metadata": {
  "kernelspec": {
   "display_name": "Python 3 (ipykernel)",
   "language": "python",
   "name": "python3"
  },
  "language_info": {
   "codemirror_mode": {
    "name": "ipython",
    "version": 3
   },
   "file_extension": ".py",
   "mimetype": "text/x-python",
   "name": "python",
   "nbconvert_exporter": "python",
   "pygments_lexer": "ipython3",
   "version": "3.9.7"
  }
 },
 "nbformat": 4,
 "nbformat_minor": 5
}
