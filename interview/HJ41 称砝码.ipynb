{
 "cells": [
  {
   "cell_type": "code",
   "execution_count": 3,
   "metadata": {},
   "outputs": [
    {
     "name": "stdout",
     "output_type": "stream",
     "text": [
      "5\n"
     ]
    }
   ],
   "source": [
    "n = int(input())\n",
    "mlst = input().split()\n",
    "xlst = input().split()\n",
    "weight_lst = []\n",
    "for i in range(n):\n",
    "    for j in range(int(xlst[i])):\n",
    "        weight_lst.append(mlst[i])     \n",
    "species = {0,}\n",
    "for i in weight_lst:\n",
    "    for j in list(species):\n",
    "        species.add(int(i)+int(j))\n",
    "\n",
    "print(len(species))\n",
    "        \n",
    "\n"
   ]
  },
  {
   "cell_type": "code",
   "execution_count": null,
   "metadata": {},
   "outputs": [],
   "source": [
    "\n",
    "n = int(input())\n",
    "mList = list(map(int, input().split()))\n",
    "xList = list(map(int, input().split()))\n",
    "lst = []\n",
    "weightlst = list(zip(mList, xList))\n",
    "for i in weightlst:\n",
    "    lst += [i[0]] * i[1]\n",
    "weights = {0}\n",
    "for i in lst:\n",
    "    for j in list(weights):\n",
    "        weights.add(i+j)\n",
    "print(len(weights))\n"
   ]
  }
 ],
 "metadata": {
  "interpreter": {
   "hash": "d88d2ab4b117b0fdfaf0671a13b7bc38b2644f22022f721cb95296f6931d23b1"
  },
  "kernelspec": {
   "display_name": "Python 3.9.7 ('base')",
   "language": "python",
   "name": "python3"
  },
  "language_info": {
   "codemirror_mode": {
    "name": "ipython",
    "version": 3
   },
   "file_extension": ".py",
   "mimetype": "text/x-python",
   "name": "python",
   "nbconvert_exporter": "python",
   "pygments_lexer": "ipython3",
   "version": "3.9.7"
  },
  "orig_nbformat": 4
 },
 "nbformat": 4,
 "nbformat_minor": 2
}
