{
 "cells": [
  {
   "cell_type": "code",
   "execution_count": 32,
   "metadata": {},
   "outputs": [
    {
     "name": "stdout",
     "output_type": "stream",
     "text": [
      "0.4\n"
     ]
    }
   ],
   "source": [
    "n = float(input())\n",
    "init = 0\n",
    "absn = abs(n)\n",
    "\n",
    "for i in range(1,int(absn/2+1)+1):\n",
    "    if absn < 1:\n",
    "        init = 1\n",
    "    elif i**3 > absn:\n",
    "        init = i\n",
    "        break\n",
    "# print(init)\n",
    "for _ in range(1000):\n",
    "    init -= 0.001\n",
    "    if abs(init ** 3 - absn) < 0.01:\n",
    "        if n < 0:\n",
    "            print('{:.1f}'.format(-init))\n",
    "        else:\n",
    "            print('{:.1f}'.format(init))\n",
    "        break\n",
    "\n"
   ]
  },
  {
   "cell_type": "code",
   "execution_count": 62,
   "metadata": {},
   "outputs": [
    {
     "name": "stdout",
     "output_type": "stream",
     "text": [
      "-0.24\n"
     ]
    }
   ],
   "source": [
    "print('{:.2f}'.format(-0.245))"
   ]
  },
  {
   "cell_type": "code",
   "execution_count": null,
   "metadata": {},
   "outputs": [],
   "source": [
    "# 牛顿迭代法求解立方根的思路：\n",
    "# 令f(x) = x^3 - a，求解f(x) = x^3 - a = 0。\n",
    "# 利用泰勒公式展开，即f(x)在x0处的函数值为：\n",
    "# f(x) = f(x0) +f'(x0)(x-x0) = (x0^3-a) + (3x0^2)(x-x0) = 0，\n",
    "# 解之得：x = x0 - (x0^3 - a) / (3x0^2)。\n",
    "#     即 x = x - ((x*x*x - n) / (3*x*x));\n",
    "\n",
    "# 拓展：求平方根用一个套路：\n",
    "# 令f(x) = x^2 - a，求解f(x) = x^2 - a = 0。\n",
    "# 利用泰勒公式展开，即f(x)在x0处的函数值为：\n",
    "# f(x) = f(x0) +f'(x0)(x-x0) = (x0^2-a) + 2x0(x-x0) = 0，\n",
    "# 解之得：x = x0 - (x0^2 - a) / 2x0\n",
    "#     即 x = x - (x*x-a)/2x 可进一步化简为:=(x+a/x) / 2。\n",
    "\n",
    "# 总结：\n",
    "# 平方根与立方根的求解迭代公式：\n",
    "# 新x = 旧x - f(x)/f'(x)\n",
    "# 新x = 旧x - (x平方或者立方与输入数a的差)/f(x)求导数\n",
    "'''\n",
    "# 法一：牛顿迭代法\n",
    "while True:\n",
    "    try:\n",
    "        a = float(input().strip())  # 获取输入的实数a\n",
    "        e = 0.0001  # 设定一个精度值\n",
    "        t = a  # 初始化立方根t的值为输入的值a\n",
    "        while abs(t*t*t - a) > e:  # 差值没有达到精度，便一直更新立方根\n",
    "    # x(i+1) = x(i) - f(xi)/f'(xi)\n",
    "    # 更新后的x = 原x - (原x的立方-a)/f(原x)导数\n",
    "            t = t - (t*t*t - a) * 1.0 / (3 * t*t)\n",
    "        print(\"%.1f\" % t)  # 当精度达到要求时，此时的立方根t便为输入实数的立方根解\n",
    "    except:\n",
    "        break\n",
    "'''\n",
    "\n",
    "# 法二：二分法\n",
    "\n",
    "while True:\n",
    "    try:\n",
    "        a = float(input().strip())\n",
    "        epsilon = 0.0001\n",
    "        low = min(-1.0, a)\n",
    "        high = max(1.0, a)\n",
    "        ans = (low + high)/2\n",
    "        while abs(ans**3 - a) >= epsilon:\n",
    "            if ans**3 < a:\n",
    "                low = ans\n",
    "            else:\n",
    "                high = ans\n",
    "            ans = (low + high)/2.0\n",
    "        print('%.1f' % ans)\n",
    "    except:\n",
    "        break\n",
    "\n",
    "\t\n",
    "\n",
    "\n"
   ]
  },
  {
   "cell_type": "code",
   "execution_count": null,
   "metadata": {},
   "outputs": [],
   "source": []
  }
 ],
 "metadata": {
  "interpreter": {
   "hash": "d88d2ab4b117b0fdfaf0671a13b7bc38b2644f22022f721cb95296f6931d23b1"
  },
  "kernelspec": {
   "display_name": "Python 3.9.7 ('base')",
   "language": "python",
   "name": "python3"
  },
  "language_info": {
   "codemirror_mode": {
    "name": "ipython",
    "version": 3
   },
   "file_extension": ".py",
   "mimetype": "text/x-python",
   "name": "python",
   "nbconvert_exporter": "python",
   "pygments_lexer": "ipython3",
   "version": "3.9.7"
  },
  "orig_nbformat": 4
 },
 "nbformat": 4,
 "nbformat_minor": 2
}
