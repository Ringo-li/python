{
 "cells": [
  {
   "cell_type": "code",
   "execution_count": 12,
   "id": "31b5841d",
   "metadata": {},
   "outputs": [
    {
     "data": {
      "text/plain": [
       "97"
      ]
     },
     "execution_count": 12,
     "metadata": {},
     "output_type": "execute_result"
    }
   ],
   "source": [
    "chr(97)\n",
    "ord('a')"
   ]
  },
  {
   "cell_type": "code",
   "execution_count": 15,
   "id": "982186b5",
   "metadata": {},
   "outputs": [
    {
     "name": "stdout",
     "output_type": "stream",
     "text": [
      "dafdsa\n",
      "4\n",
      "12321\n",
      "3\n",
      "11\n",
      "1\n",
      "1223dsaa\n",
      "6\n",
      "df4/.,'[\n",
      "8\n"
     ]
    }
   ],
   "source": [
    "while True:\n",
    "    try:\n",
    "        s = input()\n",
    "        st = set(s)\n",
    "        print(len(st))\n",
    "    except:\n",
    "        break"
   ]
  },
  {
   "cell_type": "markdown",
   "id": "2210e7c5",
   "metadata": {},
   "source": [
    "#### 知识点\n",
    "str.replace()\n",
    "filter()"
   ]
  },
  {
   "cell_type": "code",
   "execution_count": 18,
   "id": "7c0e3204",
   "metadata": {},
   "outputs": [
    {
     "name": "stdout",
     "output_type": "stream",
     "text": [
      "1231\n",
      "3\n"
     ]
    }
   ],
   "source": [
    "print(len(list(filter(lambda x: x if 1 <= ord(x) <= 127 else 0, set(input().replace('\\n', ''))))))"
   ]
  },
  {
   "cell_type": "code",
   "execution_count": null,
   "id": "e361f7ab",
   "metadata": {},
   "outputs": [],
   "source": []
  }
 ],
 "metadata": {
  "kernelspec": {
   "display_name": "Python 3 (ipykernel)",
   "language": "python",
   "name": "python3"
  },
  "language_info": {
   "codemirror_mode": {
    "name": "ipython",
    "version": 3
   },
   "file_extension": ".py",
   "mimetype": "text/x-python",
   "name": "python",
   "nbconvert_exporter": "python",
   "pygments_lexer": "ipython3",
   "version": "3.9.7"
  }
 },
 "nbformat": 4,
 "nbformat_minor": 5
}
