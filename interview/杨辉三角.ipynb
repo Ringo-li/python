{
 "cells": [
  {
   "cell_type": "code",
   "execution_count": 15,
   "metadata": {},
   "outputs": [
    {
     "name": "stdout",
     "output_type": "stream",
     "text": [
      "1\n",
      "1 1\n",
      "1 2 1\n",
      "1 3 3 1\n"
     ]
    }
   ],
   "source": [
    "def fn(row, col):\n",
    "    if row == 0 or col == 0  or row == col:\n",
    "        return 1\n",
    "    return fn(row-1, col) + fn(row-1, col-1)\n",
    "for i in range(4):\n",
    "    tmp = []\n",
    "    for j in range(i+1):\n",
    "        tmp.append(fn(i, j))\n",
    "    print(' '.join(map(str,tmp)))"
   ]
  },
  {
   "cell_type": "code",
   "execution_count": 23,
   "metadata": {},
   "outputs": [
    {
     "name": "stdout",
     "output_type": "stream",
     "text": [
      "1\n",
      "1 1\n",
      "1 2 1\n",
      "1 3 3 1\n",
      "1 4 6 4 1\n"
     ]
    }
   ],
   "source": [
    "def fn(n):\n",
    "    return 11**n\n",
    "    \n",
    "for i in range(5):\n",
    "    print(' '.join(list(str(fn(i)))))"
   ]
  },
  {
   "cell_type": "code",
   "execution_count": 49,
   "metadata": {},
   "outputs": [
    {
     "name": "stdout",
     "output_type": "stream",
     "text": [
      "[1]\n",
      "[1, 1]\n",
      "[1, 2, 1]\n",
      "[1, 3, 3, 1]\n",
      "[1, 4, 6, 4, 1]\n"
     ]
    }
   ],
   "source": [
    "def f(row):\n",
    "    data = [0] * row\n",
    "    for i in range(row):\n",
    "        data[0] = 1\n",
    "        data[i] = 1\n",
    "        for j in range(i - 1,0, -1):\n",
    "            data[j] += data[j-1]\n",
    "        print(data[:i+1])\n",
    "f(5)\n",
    "\n"
   ]
  },
  {
   "cell_type": "code",
   "execution_count": 51,
   "metadata": {},
   "outputs": [
    {
     "name": "stdout",
     "output_type": "stream",
     "text": [
      "[1]\n",
      "[1, 1]\n",
      "[1, 2, 1]\n",
      "[1, 3, 3, 1]\n",
      "[1, 4, 6, 4, 1]\n",
      "[1, 5, 10, 10, 5, 1]\n",
      "[1, 6, 15, 20, 15, 6, 1]\n"
     ]
    }
   ],
   "source": [
    "result = []\n",
    "for i in range(7):\n",
    "    if i == 0:\n",
    "        lst = [1]\n",
    "    elif i == 1:\n",
    "        lst = [1, 1]\n",
    "    else:\n",
    "        # print(lst)\n",
    "        lst = []\n",
    "        lst.append(1)\n",
    "        for j in range(1,i):\n",
    "            tmp = result[-1][j]+result[-1][j-1]\n",
    "            lst.append(tmp)\n",
    "        lst.append(1)\n",
    "    result.append(lst)\n",
    "print('\\n'.join(map(str,result)))"
   ]
  },
  {
   "cell_type": "code",
   "execution_count": 41,
   "metadata": {},
   "outputs": [
    {
     "name": "stdout",
     "output_type": "stream",
     "text": [
      "3\n",
      "2\n",
      "1\n"
     ]
    }
   ],
   "source": [
    "for i in range(3, 0, -1):\n",
    "    print(i)"
   ]
  },
  {
   "cell_type": "code",
   "execution_count": null,
   "metadata": {},
   "outputs": [],
   "source": []
  }
 ],
 "metadata": {
  "interpreter": {
   "hash": "3d9ed8596bff362bc93aede9b581c6e6e04e4e735564027361e0f5a7bf7c1a68"
  },
  "kernelspec": {
   "display_name": "Python 3.9.7 ('base')",
   "language": "python",
   "name": "python3"
  },
  "language_info": {
   "codemirror_mode": {
    "name": "ipython",
    "version": 3
   },
   "file_extension": ".py",
   "mimetype": "text/x-python",
   "name": "python",
   "nbconvert_exporter": "python",
   "pygments_lexer": "ipython3",
   "version": "3.9.7"
  },
  "orig_nbformat": 4
 },
 "nbformat": 4,
 "nbformat_minor": 2
}
