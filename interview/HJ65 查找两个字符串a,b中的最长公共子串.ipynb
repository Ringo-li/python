{
 "cells": [
  {
   "cell_type": "code",
   "execution_count": 12,
   "metadata": {},
   "outputs": [
    {
     "name": "stdout",
     "output_type": "stream",
     "text": [
      "['ab', 'abc', 'bc', 'jk', 'jkl', 'jklm', 'jklmn', 'jklmno', 'jklmnop', 'kl', 'klm', 'klmn', 'klmno', 'klmnop', 'lm', 'lmn', 'lmno', 'lmnop', 'mn', 'mno', 'mnop', 'no', 'nop']\n",
      "jklmnop\n"
     ]
    }
   ],
   "source": [
    "s1 = input()\n",
    "s2 = input()\n",
    "if len(s2) < len(s1):\n",
    "    s1, s2 = s2, s1\n",
    "common_lst = []\n",
    "for i in range(len(s1)-2):\n",
    "    for j in range(i+2,len(s1)+1):\n",
    "        if len(s1.split(s1[i:j])) > 1:\n",
    "            if len(s2.split(s1[i:j])) > 1:\n",
    "                common_lst.append(s1[i:j])\n",
    "\n",
    "# print(common_lst)\n",
    "print(max(common_lst,key=len))\n",
    "# for item in common_lst:\n",
    "#     if len(item) == max(common_lst,key=len):\n",
    "#         print(item)\n",
    "#         break\n",
    "\n"
   ]
  },
  {
   "cell_type": "code",
   "execution_count": 13,
   "metadata": {},
   "outputs": [
    {
     "name": "stdout",
     "output_type": "stream",
     "text": [
      "yi\n",
      "\n",
      "jklmnop\n"
     ]
    }
   ],
   "source": [
    "while True:\n",
    "    try:\n",
    "        a, b = input(), input() # a保存短，b保存长\n",
    "        if len(a) > len(b):\n",
    "            a, b = b, a\n",
    "        res = ''\n",
    "        for i in range(0, len(a)):\n",
    "            for j in range(i+1, len(a)):\n",
    "                if a[i:j+1] in b and j+1-i > len(res):\n",
    "                    res = a[i:j+1]\n",
    "        print(res)\n",
    "    except:\n",
    "        break\n"
   ]
  },
  {
   "cell_type": "code",
   "execution_count": null,
   "metadata": {},
   "outputs": [],
   "source": [
    "exwzdcwjsttuhsxrcpzplpnfqxqsqtlfctdkgacejitayoafucmfxxhkxyixxykndchyjc\n",
    "efgyiffxoonftmmvd\n",
    "\n",
    "abcdefghijklmnop\n",
    "abcsafjklmnopqrstuvw"
   ]
  }
 ],
 "metadata": {
  "interpreter": {
   "hash": "d88d2ab4b117b0fdfaf0671a13b7bc38b2644f22022f721cb95296f6931d23b1"
  },
  "kernelspec": {
   "display_name": "Python 3.9.7 ('base')",
   "language": "python",
   "name": "python3"
  },
  "language_info": {
   "codemirror_mode": {
    "name": "ipython",
    "version": 3
   },
   "file_extension": ".py",
   "mimetype": "text/x-python",
   "name": "python",
   "nbconvert_exporter": "python",
   "pygments_lexer": "ipython3",
   "version": "3.9.7"
  },
  "orig_nbformat": 4
 },
 "nbformat": 4,
 "nbformat_minor": 2
}
