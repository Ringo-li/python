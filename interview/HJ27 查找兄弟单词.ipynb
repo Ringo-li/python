{
 "cells": [
  {
   "cell_type": "code",
   "execution_count": 7,
   "metadata": {},
   "outputs": [
    {
     "name": "stdout",
     "output_type": "stream",
     "text": [
      "bca\n",
      "6 ['cab', 'ad', 'abcd', 'cba', 'abc', 'bca'] abc 1\n"
     ]
    }
   ],
   "source": [
    "lst = list(input().split())\n",
    "n = int(lst[0])\n",
    "dct = lst[1:n+1]\n",
    "x = lst[n+1]\n",
    "k = int(lst[-1])\n",
    "xlst = []\n",
    "for item in dct:\n",
    "    if sorted(item) == sorted(x) and item != x:\n",
    "        xlst.append(item)\n",
    "print(len(xlst))\n",
    "if len(xlst) - k > 0:\n",
    "    print(sorted(xlst)[k-1])"
   ]
  },
  {
   "cell_type": "code",
   "execution_count": null,
   "metadata": {},
   "outputs": [],
   "source": []
  }
 ],
 "metadata": {
  "interpreter": {
   "hash": "d88d2ab4b117b0fdfaf0671a13b7bc38b2644f22022f721cb95296f6931d23b1"
  },
  "kernelspec": {
   "display_name": "Python 3.9.7 ('base')",
   "language": "python",
   "name": "python3"
  },
  "language_info": {
   "codemirror_mode": {
    "name": "ipython",
    "version": 3
   },
   "file_extension": ".py",
   "mimetype": "text/x-python",
   "name": "python",
   "nbconvert_exporter": "python",
   "pygments_lexer": "ipython3",
   "version": "3.9.7"
  },
  "orig_nbformat": 4
 },
 "nbformat": 4,
 "nbformat_minor": 2
}
