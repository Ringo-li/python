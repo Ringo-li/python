{
 "cells": [
  {
   "cell_type": "code",
   "execution_count": 4,
   "metadata": {},
   "outputs": [
    {
     "name": "stdout",
     "output_type": "stream",
     "text": [
      "VERY_SECURE\n"
     ]
    }
   ],
   "source": [
    "s = input()\n",
    "lst = ['VERY_SECURE', 'SECURE', 'VERY_STRONG', 'STRONG', \\\n",
    "        'AVERAGE', 'WEAK', 'VERY_WEAK']\n",
    "def lenght(s):\n",
    "    if len(s) <= 4:\n",
    "        score = 5\n",
    "    elif 5 <= len(s) <= 7:\n",
    "        score = 10\n",
    "    else:\n",
    "        score = 25 \n",
    "    return score\n",
    "\n",
    "def if_alp(s):\n",
    "    letter = 0\n",
    "    upper = 0\n",
    "    for i in s:    \n",
    "        if i.isalpha():\n",
    "            letter += 1\n",
    "            if i.isupper():\n",
    "                upper += 1\n",
    "    if letter == 0:\n",
    "        score = 0\n",
    "    elif letter == upper or upper == 0 :\n",
    "        score = 10\n",
    "    else:\n",
    "        score = 20\n",
    "    return score\n",
    "\n",
    "def if_dig(s):\n",
    "    number = 0\n",
    "    for i in s:\n",
    "        if i.isdigit():\n",
    "            number += 1\n",
    "    if number == 0:\n",
    "        score = 0\n",
    "    elif number == 1:\n",
    "        score = 10\n",
    "    else:\n",
    "        score = 20\n",
    "    return score\n",
    "\n",
    "def if_spec(s):\n",
    "    special = 0\n",
    "    for i in s:\n",
    "        if i.isdigit() or i.isalpha():\n",
    "            pass\n",
    "        else:\n",
    "            special += 1\n",
    "    if special == 0:\n",
    "        score = 0\n",
    "    elif special == 1:\n",
    "        score = 10\n",
    "    else:\n",
    "        score = 25\n",
    "\n",
    "    return score\n",
    "\n",
    "lenght_score = lenght(s)\n",
    "alpha_score = if_alp(s)\n",
    "digit_score = if_dig(s)\n",
    "special_score = if_spec(s)\n",
    "if alpha_score == 0 or digit_score == 0 or special_score == 0:\n",
    "    add_score = 2\n",
    "elif alpha_score == 20 and special_score != 0 and digit_score != 0:\n",
    "    add_score = 5\n",
    "else:\n",
    "    add_score = 3\n",
    "\n",
    "total = lenght_score + alpha_score + digit_score + special_score + add_score\n",
    "\n",
    "if total >= 90:\n",
    "    print(lst[0])\n",
    "elif total >= 80:\n",
    "    print(lst[1])\n",
    "elif total >= 70:\n",
    "    print(lst[2])\n",
    "elif total >= 60:\n",
    "    print(lst[3])\n",
    "elif total >= 50:\n",
    "    print(lst[4])\n",
    "elif total >= 25:\n",
    "    print(lst[5])\n",
    "else:\n",
    "    print(lst[6])\n",
    "\n",
    "    \n"
   ]
  },
  {
   "cell_type": "code",
   "execution_count": 2,
   "metadata": {},
   "outputs": [
    {
     "data": {
      "text/plain": [
       "True"
      ]
     },
     "execution_count": 2,
     "metadata": {},
     "output_type": "execute_result"
    }
   ],
   "source": [
    "'s'.isdigit()\n",
    "'s'.isupper()\n",
    "'s'.isascii()"
   ]
  },
  {
   "cell_type": "code",
   "execution_count": null,
   "metadata": {},
   "outputs": [],
   "source": []
  }
 ],
 "metadata": {
  "interpreter": {
   "hash": "d88d2ab4b117b0fdfaf0671a13b7bc38b2644f22022f721cb95296f6931d23b1"
  },
  "kernelspec": {
   "display_name": "Python 3.9.7 ('base')",
   "language": "python",
   "name": "python3"
  },
  "language_info": {
   "codemirror_mode": {
    "name": "ipython",
    "version": 3
   },
   "file_extension": ".py",
   "mimetype": "text/x-python",
   "name": "python",
   "nbconvert_exporter": "python",
   "pygments_lexer": "ipython3",
   "version": "3.9.7"
  },
  "orig_nbformat": 4
 },
 "nbformat": 4,
 "nbformat_minor": 2
}
