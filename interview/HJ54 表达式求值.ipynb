{
 "cells": [
  {
   "cell_type": "code",
   "execution_count": 5,
   "id": "877cb66b",
   "metadata": {},
   "outputs": [
    {
     "name": "stdout",
     "output_type": "stream",
     "text": [
      " 3 - 2\n",
      "1\n",
      "((3  * (2 + 3) / (5 - 2 + 2) ) * ((4 + 5) / 3 ) ) / 3 - 2 \n",
      "1.0\n"
     ]
    }
   ],
   "source": [
    "while True:\n",
    "    try:\n",
    "        s = input()\n",
    "        print(eval(s))\n",
    "    except:\n",
    "        break\n",
    "        "
   ]
  },
  {
   "cell_type": "code",
   "execution_count": 4,
   "id": "a9369015",
   "metadata": {},
   "outputs": [
    {
     "data": {
      "text/plain": [
       "1.0"
      ]
     },
     "execution_count": 4,
     "metadata": {},
     "output_type": "execute_result"
    }
   ],
   "source": [
    "((3  * (2 + 3) / (5 - 2 + 2) ) * ((4 + 5) / 3 ) ) / 3 - 2 "
   ]
  },
  {
   "cell_type": "code",
   "execution_count": 11,
   "id": "6e7fa41d",
   "metadata": {},
   "outputs": [
    {
     "name": "stdout",
     "output_type": "stream",
     "text": [
      "((3  * (2 + 3) / (5 - 2 + 2) ) * ((4 + 5) / 3 ) ) / 3 - 2 \n",
      "1\n"
     ]
    }
   ],
   "source": [
    "import re\n",
    "\n",
    "chars = input()\n",
    "chars = re.sub(r\"([-+*/()])\", r\" \\1 \", chars)\n",
    "tmp = chars.split()\n",
    "tokens = []\n",
    "#处理负数\n",
    "f = False\n",
    "for i, x in enumerate(tmp):\n",
    "\tif f == True:\n",
    "\t\tf = False\n",
    "\t\tcontinue\n",
    "\tif x == '-' and (i == 0 or tmp[i-1] == '('):\n",
    "\t\ttokens.append(''.join(tmp[i:i+2]))\n",
    "\t\tf = True\n",
    "\telse:\n",
    "\t\ttokens.append(x)\n",
    "\n",
    "ops = []\n",
    "vals = []\n",
    "\n",
    "precedence = {'+':1, '-':1, '*':2, '/':2, '(':0}\n",
    "\n",
    "def applyOp(v1, v2, op):\n",
    "\tif op == '+': return v1 + v2\n",
    "\tif op == '-': return v1 - v2\n",
    "\tif op == '*': return v1 * v2\n",
    "\tif op == '/': return v1 // v2\n",
    "\n",
    "for t in tokens:\n",
    "\tif t != '-' and t[0] == '-' or t.isdigit():\n",
    "\t\tvals.append(int(t))\n",
    "\telif t == '(':\n",
    "\t\tops.append(t)\n",
    "\telif t == ')':\n",
    "\t\twhile len(ops) > 0 and ops[-1] != '(':\n",
    "\t\t\tv2 = vals.pop()\n",
    "\t\t\tv1 = vals.pop()\n",
    "\t\t\top = ops.pop()\n",
    "\t\t\tval = applyOp(v1, v2, op)\n",
    "\t\t\tvals.append(val)\n",
    "\t\tops.pop()\n",
    "\telse:\n",
    "\t\twhile len(ops) > 0 and precedence[ops[-1]] >= precedence[t]:\n",
    "\t\t\tv2 = vals.pop()\n",
    "\t\t\tv1 = vals.pop()\n",
    "\t\t\top = ops.pop()\n",
    "\t\t\tval = applyOp(v1, v2, op)\n",
    "\t\t\tvals.append(val)\n",
    "\t\tops.append(t)\n",
    "\n",
    "\n",
    "while len(ops) > 0:\n",
    "\tv2 = vals.pop()\n",
    "\tv1 = vals.pop()\n",
    "\top = ops.pop()\n",
    "\tval = applyOp(v1, v2, op)\n",
    "\tvals.append(val)\n",
    "\n",
    "print(vals[-1])\n"
   ]
  }
 ],
 "metadata": {
  "kernelspec": {
   "display_name": "Python 3 (ipykernel)",
   "language": "python",
   "name": "python3"
  },
  "language_info": {
   "codemirror_mode": {
    "name": "ipython",
    "version": 3
   },
   "file_extension": ".py",
   "mimetype": "text/x-python",
   "name": "python",
   "nbconvert_exporter": "python",
   "pygments_lexer": "ipython3",
   "version": "3.9.7"
  }
 },
 "nbformat": 4,
 "nbformat_minor": 5
}
