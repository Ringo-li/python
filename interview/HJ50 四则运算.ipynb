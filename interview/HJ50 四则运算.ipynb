{
 "cells": [
  {
   "cell_type": "code",
   "execution_count": 5,
   "metadata": {},
   "outputs": [
    {
     "name": "stdout",
     "output_type": "stream",
     "text": [
      "25\n"
     ]
    }
   ],
   "source": [
    "s = input()\n",
    "s = s.replace('[','(')\n",
    "s = s.replace('{','(')\n",
    "s = s.replace(']',')')\n",
    "s = s.replace('}',')')\n",
    "print(int(eval(s)))"
   ]
  },
  {
   "cell_type": "code",
   "execution_count": 9,
   "metadata": {},
   "outputs": [],
   "source": [
    "class Solution(object):\n",
    "\n",
    "    \"\"\"\n",
    "    解题思路：\n",
    "        用到一个堆栈，1) 遇到数字则获取完整数字\n",
    "                   2) 遇到运算符, 需要将数值和运算符压入栈中；但是需要考虑\n",
    "                      栈中是否存在优先级高的“*/”运算符，存在则合并计算\n",
    "                   3) 遇到括号，则递归调用\n",
    "\n",
    "        eg: \"48*((70-65)-43)+8*1\";  建立一个list当栈用que, index=0表示当前处理的位置\n",
    "        que首先会将[48, *]压到栈中，\n",
    "        当遇到“(”时， 递归调用 f(i+1) = f(4),\n",
    "        继续遇到“(”, 递归调用 f(i+1) = f(5),\n",
    "        然后相继将[70,-, 65]压入栈中，在遇到“)”,会计算栈中和值\n",
    "        再将和值与-，43压入栈中，计算得到f(5) = 5-43 = 38\n",
    "        ...\n",
    "    \"\"\"\n",
    "    def calculate(self, str1):\n",
    "        return self.f(str1, 0)[0]\n",
    "\n",
    "    def f(self, str1, i):\n",
    "        que = []  # list当堆栈用\n",
    "        cur = 0  # cur当前数值\n",
    "        while i < len(str1) and str1[i] != \")\":  # 当遇到右括号“)”时退出，先计算括号内值\n",
    "            if '0' <= str1[i] <= '9':\n",
    "                cur = cur * 10 + int(str1[i])\n",
    "                i += 1\n",
    "            elif str1[i] != '(':  # 只能是运算符\n",
    "                self.addNum(que, cur)  # 把当前数值压入栈中\n",
    "                que.append(str1[i])\n",
    "                i += 1\n",
    "                cur = 0\n",
    "            else:  # 这里为左括号递归调用的\n",
    "                bra = self.f(str1, i + 1)\n",
    "                cur = bra[0]\n",
    "                i = bra[1] + 1\n",
    "\n",
    "        self.addNum(que, cur)\n",
    "        return self.getNum(que), i\n",
    "\n",
    "    \"\"\"\n",
    "    将数值压入栈中，遇到 *或/,优先合并\n",
    "    \"\"\"\n",
    "    def addNum(self, que, num):\n",
    "        if len(que) > 0:\n",
    "            top = que.pop()\n",
    "            if top == \"+\" or top == \"-\":\n",
    "                que.append(top)\n",
    "            else:\n",
    "                cur = que.pop()\n",
    "                num = cur * num if top == \"*\" else cur/num\n",
    "\n",
    "        que.append(num)\n",
    "\n",
    "    \"\"\"\n",
    "    计算站内所有的加减和值\n",
    "    \"\"\"\n",
    "    def getNum(self, que):\n",
    "        res, add, cur, num = 0, True, None, 0\n",
    "        while len(que) > 0:\n",
    "            cur = que.pop(0)\n",
    "            if cur == \"+\":\n",
    "                add = True\n",
    "            elif cur == \"-\":\n",
    "                add = False\n",
    "            else:\n",
    "                num = int(cur)\n",
    "                res += num if add else (-num)\n",
    "        return res\n",
    "\n",
    "    \n",
    "while True:\n",
    "    try:\n",
    "        s=input()\n",
    "        s=s.replace('{', '(')\n",
    "        s=s.replace(\"}\",\")\")\n",
    "        s=s.replace(\"[\",\"(\")\n",
    "        s=s.replace(\"]\",\")\")\n",
    "        so = Solution()\n",
    "        print(so.calculate(s))\n",
    "    except:\n",
    "        break    \n",
    "    "
   ]
  },
  {
   "cell_type": "code",
   "execution_count": null,
   "metadata": {},
   "outputs": [],
   "source": []
  }
 ],
 "metadata": {
  "interpreter": {
   "hash": "d88d2ab4b117b0fdfaf0671a13b7bc38b2644f22022f721cb95296f6931d23b1"
  },
  "kernelspec": {
   "display_name": "Python 3.9.7 ('base')",
   "language": "python",
   "name": "python3"
  },
  "language_info": {
   "codemirror_mode": {
    "name": "ipython",
    "version": 3
   },
   "file_extension": ".py",
   "mimetype": "text/x-python",
   "name": "python",
   "nbconvert_exporter": "python",
   "pygments_lexer": "ipython3",
   "version": "3.9.7"
  },
  "orig_nbformat": 4
 },
 "nbformat": 4,
 "nbformat_minor": 2
}
