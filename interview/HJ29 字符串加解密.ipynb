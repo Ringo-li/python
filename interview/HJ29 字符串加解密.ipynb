{
 "cells": [
  {
   "cell_type": "code",
   "execution_count": 5,
   "metadata": {},
   "outputs": [
    {
     "name": "stdout",
     "output_type": "stream",
     "text": [
      "BCDEFGH\n",
      "abcdefg\n"
     ]
    }
   ],
   "source": [
    "s1 = input()\n",
    "s2 = input()\n",
    "def encrypt(s):\n",
    "    result = ''\n",
    "    for i in s:\n",
    "        if i.isupper():\n",
    "            if i == 'Z':\n",
    "                result += chr(ord(i)-25+32)\n",
    "            else:\n",
    "                result += chr(ord(i)+33)\n",
    "        elif i.islower():\n",
    "            if i == 'z':\n",
    "                result += chr(ord(i)-25-32)\n",
    "            else:\n",
    "                result += chr(ord(i)-31)\n",
    "        else:\n",
    "            if i == '9':\n",
    "                result += '0'\n",
    "            else:\n",
    "                result += str(int(i)+1)\n",
    "    return result\n",
    "\n",
    "def decrypt(s):\n",
    "    result = ''\n",
    "    for i in s:\n",
    "        if i.isupper():\n",
    "            if i == 'A':\n",
    "                result += chr(ord(i)+32+25)\n",
    "            else:\n",
    "                result += chr(ord(i)+31)\n",
    "        elif i.islower():\n",
    "            if i == 'a':\n",
    "                result += chr(ord(i)-32+25)\n",
    "            else:\n",
    "                result += chr(ord(i)-33)\n",
    "        else:\n",
    "            if i == '0':\n",
    "                result += '9'\n",
    "            else:\n",
    "                result += str(int(i)-1)\n",
    "    return result\n",
    "\n",
    "print(encrypt(s1))\n",
    "print(decrypt(s2))"
   ]
  },
  {
   "cell_type": "code",
   "execution_count": 3,
   "metadata": {},
   "outputs": [
    {
     "name": "stdout",
     "output_type": "stream",
     "text": [
      "ETBG\n",
      "DQVP\n"
     ]
    }
   ],
   "source": [
    "s1 = input()\n",
    "s2 = input()\n",
    "\n",
    "intab = 'abcdefghijklmnopqrstuvwxyzABCDEFGHIJKLMNOPQRSTUVWXYZ0123456789'\n",
    "outab = 'BCDEFGHIJKLMNOPQRSTUVWXYZAbcdefghijklmnopqrstuvwxyza1234567890'\n",
    "\n",
    "def encrept(s, n):\n",
    "    result = ''\n",
    "    if n == 1:\n",
    "        for i in s:\n",
    "            result += outab[intab.index(i)]\n",
    "    if n == -1:\n",
    "        for i in s:\n",
    "            result += intab[outab.index(i)]\n",
    "    return result\n",
    "\n",
    "print(encrept(s1, 1))\n",
    "print(encrept(s2, -1))\n",
    "\n"
   ]
  },
  {
   "cell_type": "code",
   "execution_count": 1,
   "metadata": {},
   "outputs": [
    {
     "name": "stdout",
     "output_type": "stream",
     "text": [
      "abcdefghijklmnopqrstuvwxyzABCDEFGHIJKLMNOPQRSTUVWXYZ\n"
     ]
    }
   ],
   "source": [
    "import string\n",
    "print(string.ascii_letters)"
   ]
  },
  {
   "cell_type": "code",
   "execution_count": null,
   "metadata": {},
   "outputs": [],
   "source": []
  }
 ],
 "metadata": {
  "interpreter": {
   "hash": "d88d2ab4b117b0fdfaf0671a13b7bc38b2644f22022f721cb95296f6931d23b1"
  },
  "kernelspec": {
   "display_name": "Python 3.9.7 ('base')",
   "language": "python",
   "name": "python3"
  },
  "language_info": {
   "codemirror_mode": {
    "name": "ipython",
    "version": 3
   },
   "file_extension": ".py",
   "mimetype": "text/x-python",
   "name": "python",
   "nbconvert_exporter": "python",
   "pygments_lexer": "ipython3",
   "version": "3.9.7"
  },
  "orig_nbformat": 4
 },
 "nbformat": 4,
 "nbformat_minor": 2
}
