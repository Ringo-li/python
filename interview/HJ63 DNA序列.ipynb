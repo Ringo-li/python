{
 "cells": [
  {
   "cell_type": "code",
   "execution_count": 16,
   "metadata": {},
   "outputs": [
    {
     "name": "stdout",
     "output_type": "stream",
     "text": [
      "CCCAAGTCTTCCAATCGTGCCCCCCAATTGAGTCTCGCTCCCCAGGTGAGATACATCAGAAGC\n"
     ]
    }
   ],
   "source": [
    "DNA_sequence = input()\n",
    "n = int(input())\n",
    "GC_lst = []\n",
    "for i in range(len(DNA_sequence)-n):\n",
    "    tmp = DNA_sequence[i:i+n].count('G') + DNA_sequence[i:i+n].count('C')\n",
    "    if 'AGT' or 'CT' in DNA_sequence[i:i+n]:\n",
    "        tmp -= 1\n",
    "    GC_lst.append([tmp, i])\n",
    "GC_n = {0}\n",
    "for i in GC_lst:\n",
    "    GC_n.add(i[0])\n",
    "if n >= len(DNA_sequence):\n",
    "    print(DNA_sequence)\n",
    "else:\n",
    "    for y in sorted(GC_lst):\n",
    "        if y[0] == max(GC_n):\n",
    "            print(DNA_sequence[y[1]:y[1]+n])\n",
    "            break\n",
    "\n"
   ]
  },
  {
   "cell_type": "code",
   "execution_count": 8,
   "metadata": {},
   "outputs": [
    {
     "name": "stdout",
     "output_type": "stream",
     "text": [
      "ok\n"
     ]
    }
   ],
   "source": [
    "if 'a' or 'b' in 'vma':\n",
    "    print('ok')"
   ]
  },
  {
   "cell_type": "code",
   "execution_count": null,
   "metadata": {},
   "outputs": [],
   "source": []
  }
 ],
 "metadata": {
  "interpreter": {
   "hash": "d88d2ab4b117b0fdfaf0671a13b7bc38b2644f22022f721cb95296f6931d23b1"
  },
  "kernelspec": {
   "display_name": "Python 3.9.7 ('base')",
   "language": "python",
   "name": "python3"
  },
  "language_info": {
   "codemirror_mode": {
    "name": "ipython",
    "version": 3
   },
   "file_extension": ".py",
   "mimetype": "text/x-python",
   "name": "python",
   "nbconvert_exporter": "python",
   "pygments_lexer": "ipython3",
   "version": "3.9.7"
  },
  "orig_nbformat": 4
 },
 "nbformat": 4,
 "nbformat_minor": 2
}
