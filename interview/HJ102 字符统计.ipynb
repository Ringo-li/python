{
 "cells": [
  {
   "cell_type": "code",
   "execution_count": 15,
   "metadata": {},
   "outputs": [
    {
     "name": "stdout",
     "output_type": "stream",
     "text": [
      "{'4': 2, '3': 3, '2': 1, 'w': 6, '1': 2} [1, 2, 2, 3, 6]\n",
      "[['2'], ['4', '1'], ['3'], ['w']]\n",
      "w3142"
     ]
    }
   ],
   "source": [
    "s = input()\n",
    "dct = {}\n",
    "for i in set(s):\n",
    "    dct[i] = list(s).count(i)\n",
    "\n",
    "# print(dct,sorted(dct.values()))\n",
    "lst = []\n",
    "for j in sorted(set(dct.values())):\n",
    "    tmp = []\n",
    "    for x, y in dct.items():\n",
    "        if y == j:\n",
    "            tmp.append(x)\n",
    "    lst.append(tmp)\n",
    "# print(lst)\n",
    "for item in lst[::-1]:\n",
    "    print(''.join(sorted(item)),end='')"
   ]
  },
  {
   "cell_type": "code",
   "execution_count": 25,
   "metadata": {},
   "outputs": [
    {
     "name": "stdout",
     "output_type": "stream",
     "text": [
      "w123\n"
     ]
    }
   ],
   "source": [
    "while True:\n",
    "    try:\n",
    "        str_input = input()\n",
    "        new_list = list(set(str_input))\n",
    "        print(''.join(sorted(new_list, key=lambda x: str_input.count(x) * 1000 - ord(x),reverse=True)))\n",
    "    except:\n",
    "        break\n"
   ]
  },
  {
   "cell_type": "code",
   "execution_count": 60,
   "metadata": {},
   "outputs": [
    {
     "data": {
      "text/plain": [
       "['1', '2', '3', 'e', 'f', 'f', 's', 's', 'a', 'w', 'd', 'd']"
      ]
     },
     "execution_count": 60,
     "metadata": {},
     "output_type": "execute_result"
    }
   ],
   "source": [
    "def fn(i):\n",
    "    if ord(i) > 100:\n",
    "        return ord(i) - 10\n",
    "    else:\n",
    "        return ord(i) + 10\n",
    "# sorted('123ewdsfdsaf',key=lambda x: ord(x) -10 if ord(x) > 100 else ord(x) +10 )\n",
    "sorted('123ewdsfdsaf',key=fn )"
   ]
  }
 ],
 "metadata": {
  "interpreter": {
   "hash": "d88d2ab4b117b0fdfaf0671a13b7bc38b2644f22022f721cb95296f6931d23b1"
  },
  "kernelspec": {
   "display_name": "Python 3.9.7 ('base')",
   "language": "python",
   "name": "python3"
  },
  "language_info": {
   "codemirror_mode": {
    "name": "ipython",
    "version": 3
   },
   "file_extension": ".py",
   "mimetype": "text/x-python",
   "name": "python",
   "nbconvert_exporter": "python",
   "pygments_lexer": "ipython3",
   "version": "3.9.7"
  },
  "orig_nbformat": 4
 },
 "nbformat": 4,
 "nbformat_minor": 2
}
