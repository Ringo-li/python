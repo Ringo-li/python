{
 "cells": [
  {
   "cell_type": "code",
   "execution_count": 7,
   "metadata": {},
   "outputs": [
    {
     "name": "stdout",
     "output_type": "stream",
     "text": [
      "[['1'], ['1', '2'], ['1', '2', '3']]\n"
     ]
    }
   ],
   "source": [
    "enter = input().split()\n",
    "stand = []\n",
    "for i in range(1,len(enter)+1):\n",
    "    stand.append(enter[0:i])\n",
    "print(stand)    \n",
    "\n",
    "        \n",
    "\n"
   ]
  },
  {
   "cell_type": "code",
   "execution_count": null,
   "metadata": {},
   "outputs": [],
   "source": [
    "#固定的递归方法，需要记住\n",
    "res = [] #定义全局变量\n",
    "\n",
    "def dfs(wait, stack, out):\n",
    "    if not wait and not stack:\n",
    "        res.append(' '.join(map(str, out)))\n",
    "    if wait: # 入栈，一开始一股脑都入栈\n",
    "        dfs(wait[1:], stack + [wait[0]], out)\n",
    "    if stack: # 出栈，之后慢慢出栈\n",
    "        dfs(wait, stack[:-1], out + [stack[-1]])\n",
    "\n",
    "while True:\n",
    "    try:\n",
    "        n, nums = int(input()), list(map(int, input().split()))\n",
    "        dfs(nums, [], [])\n",
    "        for i in sorted(res):\n",
    "            print(i)\n",
    "    except:\n",
    "        break\n",
    "\n"
   ]
  }
 ],
 "metadata": {
  "interpreter": {
   "hash": "d88d2ab4b117b0fdfaf0671a13b7bc38b2644f22022f721cb95296f6931d23b1"
  },
  "kernelspec": {
   "display_name": "Python 3.9.7 ('base')",
   "language": "python",
   "name": "python3"
  },
  "language_info": {
   "codemirror_mode": {
    "name": "ipython",
    "version": 3
   },
   "file_extension": ".py",
   "mimetype": "text/x-python",
   "name": "python",
   "nbconvert_exporter": "python",
   "pygments_lexer": "ipython3",
   "version": "3.9.7"
  },
  "orig_nbformat": 4
 },
 "nbformat": 4,
 "nbformat_minor": 2
}
