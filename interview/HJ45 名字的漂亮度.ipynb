{
 "cells": [
  {
   "cell_type": "code",
   "execution_count": 16,
   "metadata": {},
   "outputs": [
    {
     "name": "stdout",
     "output_type": "stream",
     "text": [
      "[[1, 1, 2], [1, 2, 2, 1, 1, 1]]\n",
      "192\n"
     ]
    }
   ],
   "source": [
    "n = int(input())\n",
    "names = []\n",
    "for _ in range(n):\n",
    "    names.append(input())\n",
    "amount = []\n",
    "for name in names:\n",
    "    tmp = []\n",
    "    for i in set(name):\n",
    "        tmp.append(name.count(i))\n",
    "    amount.append(tmp)\n",
    "# print(amount)\n",
    "for eatch in amount:\n",
    "    tab = zip(sorted(eatch, reverse=True),list(range(1,27))[::-1])\n",
    "    total = 0\n",
    "    for i in tab:\n",
    "        total += (i[0]*i[1])\n",
    "    print(total)"
   ]
  },
  {
   "cell_type": "code",
   "execution_count": null,
   "metadata": {},
   "outputs": [],
   "source": []
  }
 ],
 "metadata": {
  "interpreter": {
   "hash": "d88d2ab4b117b0fdfaf0671a13b7bc38b2644f22022f721cb95296f6931d23b1"
  },
  "kernelspec": {
   "display_name": "Python 3.9.7 ('base')",
   "language": "python",
   "name": "python3"
  },
  "language_info": {
   "codemirror_mode": {
    "name": "ipython",
    "version": 3
   },
   "file_extension": ".py",
   "mimetype": "text/x-python",
   "name": "python",
   "nbconvert_exporter": "python",
   "pygments_lexer": "ipython3",
   "version": "3.9.7"
  },
  "orig_nbformat": 4
 },
 "nbformat": 4,
 "nbformat_minor": 2
}
