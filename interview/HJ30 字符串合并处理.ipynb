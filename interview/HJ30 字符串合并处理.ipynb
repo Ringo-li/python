{
 "cells": [
  {
   "cell_type": "code",
   "execution_count": 16,
   "metadata": {},
   "outputs": [
    {
     "name": "stdout",
     "output_type": "stream",
     "text": [
      "BFBsF\n"
     ]
    }
   ],
   "source": [
    "s = list(input().replace(' ',''))\n",
    "s[::2] = sorted(s[::2])\n",
    "s[1::2] = sorted(s[1::2])\n",
    "result = ''\n",
    "for j in s:\n",
    "    if j in 'abcdefABCDEF' or j.isdigit():\n",
    "        result += hex(int(bin(int(j,16))[2:][::-1].ljust(4,'0'),2))[2:].upper()\n",
    "    else:\n",
    "        result += j\n",
    "print(result)\n",
    "\n",
    "\n"
   ]
  },
  {
   "cell_type": "code",
   "execution_count": 14,
   "metadata": {},
   "outputs": [
    {
     "data": {
      "text/plain": [
       "'0100'"
      ]
     },
     "execution_count": 14,
     "metadata": {},
     "output_type": "execute_result"
    }
   ],
   "source": [
    "bin(int('2',16))[2:][::-1].ljust(4,'0')"
   ]
  },
  {
   "cell_type": "code",
   "execution_count": 10,
   "metadata": {},
   "outputs": [
    {
     "data": {
      "text/plain": [
       "'0100'"
      ]
     },
     "execution_count": 10,
     "metadata": {},
     "output_type": "execute_result"
    }
   ],
   "source": [
    "bin(int('2', 16))[2:].rjust(4, '0')[::-1]"
   ]
  },
  {
   "cell_type": "code",
   "execution_count": 9,
   "metadata": {},
   "outputs": [
    {
     "name": "stdout",
     "output_type": "stream",
     "text": [
      "['1', '0', '1', '2', '1', '2', '4', '3', '5', '7', '9', 'D', '9', 'G', 'E', 'b', 'E', 'd', 'U', 'f', 'o', 'o', 'q', 'q', 'r', 'r', 'r', 'v', 'u', 'x', 'u']\n",
      "8084842CAE9B9G7D7BUFooqqrrrvuxu\n"
     ]
    }
   ],
   "source": [
    "\n",
    "import re\n",
    "\n",
    "# 构造函数加密字符，如果是[0-9A-Fa-f]则按规则返回加密值，否则返回原始值\n",
    "def encrypt(x):\n",
    "    if re.search(r'[0-9A-Fa-f]', x):\n",
    "        return hex(int(bin(int(x, 16))[2:].rjust(4, '0')[::-1], 2))[2:].upper()\n",
    "        \"\"\"\n",
    "        1. int(x, 16) - 将字符x转成16进制\n",
    "        2. bin(int(x, 16))[2:].rjust(4,'0')[::-1] - 继续将十六进制转成二进制，并去除二进制开头\"0b\"，如果二进制长度小于4，则在前面补0至四位,然后再倒序。\n",
    "        比如bin(int('7', 16))输出0b111,[2:]去除0b后为111，rjust(4,'0')左侧补0则变为0111，[::-1]倒序后变为二进制的1110\n",
    "        3. hex(int(i,2)[2:].upper() - 其中i表示注释2的内容。这一步是将上一步获取的二进制转成十六进制，并去除开头的\"0x\",最后再将其转成大写。\n",
    "        \"\"\"\n",
    "    else:\n",
    "        return x\n",
    "\n",
    "while True:\n",
    "    try:\n",
    "        a = list(input().replace(\" \", \"\")) # 去除输入中的空格，并将输入的字符处理成列表\n",
    "        a[::2] = sorted(a[::2])  # 奇数位置从小到大排序\n",
    "        a[1::2] = sorted(a[1::2])  # 偶数位置从小到大排序\n",
    "        print(a)\n",
    "        res = \"\"\n",
    "        for i in a:\n",
    "            res += encrypt(i) # 调用加密函数，遍历输出结果\n",
    "        print(res)\n",
    "    except:\n",
    "        break\n",
    "\n"
   ]
  },
  {
   "cell_type": "code",
   "execution_count": null,
   "metadata": {},
   "outputs": [],
   "source": []
  }
 ],
 "metadata": {
  "interpreter": {
   "hash": "d88d2ab4b117b0fdfaf0671a13b7bc38b2644f22022f721cb95296f6931d23b1"
  },
  "kernelspec": {
   "display_name": "Python 3.9.7 ('base')",
   "language": "python",
   "name": "python3"
  },
  "language_info": {
   "codemirror_mode": {
    "name": "ipython",
    "version": 3
   },
   "file_extension": ".py",
   "mimetype": "text/x-python",
   "name": "python",
   "nbconvert_exporter": "python",
   "pygments_lexer": "ipython3",
   "version": "3.9.7"
  },
  "orig_nbformat": 4
 },
 "nbformat": 4,
 "nbformat_minor": 2
}
