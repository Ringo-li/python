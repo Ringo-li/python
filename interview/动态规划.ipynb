{
 "cells": [
  {
   "cell_type": "code",
   "execution_count": 1,
   "metadata": {},
   "outputs": [
    {
     "name": "stdout",
     "output_type": "stream",
     "text": [
      "3\n"
     ]
    }
   ],
   "source": [
    "# 从一个数组中找出最长递增序列的长度\n",
    "# [1, 5, 2, 4, 3]\n",
    "nums = [1, 5, 2, 4, 3]\n",
    "# for x in nums:\n",
    "#     for i in range(len(nums)):\n",
    "#         result = 0\n",
    "#         for j in range(i+1,len(nums)):\n",
    "#             if nums[i] < nums[j]:\n",
    "#                 result += 1\n",
    "#         print(result)\n",
    "\n",
    "def L(nums, i):\n",
    "    if i == len(nums) - 1 :\n",
    "        return 1\n",
    "\n",
    "    max_len = 1\n",
    "    for j in range(i+1,len(nums)):\n",
    "        if nums[i] < nums[j]:\n",
    "            max_len = max(max_len, L(nums, j)+1)\n",
    "    return max_len\n",
    "    \n",
    "print(L(nums, 0))\n",
    "    "
   ]
  },
  {
   "cell_type": "code",
   "execution_count": null,
   "metadata": {},
   "outputs": [],
   "source": []
  }
 ],
 "metadata": {
  "interpreter": {
   "hash": "25a19fbe0a9132dfb9279d48d161753c6352f8f9478c2e74383d340069b907c3"
  },
  "kernelspec": {
   "display_name": "Python 3.9.7 64-bit",
   "language": "python",
   "name": "python3"
  },
  "language_info": {
   "codemirror_mode": {
    "name": "ipython",
    "version": 3
   },
   "file_extension": ".py",
   "mimetype": "text/x-python",
   "name": "python",
   "nbconvert_exporter": "python",
   "pygments_lexer": "ipython3",
   "version": "3.9.7"
  },
  "orig_nbformat": 4
 },
 "nbformat": 4,
 "nbformat_minor": 2
}
