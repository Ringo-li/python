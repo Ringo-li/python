{
 "cells": [
  {
   "cell_type": "code",
   "execution_count": 37,
   "metadata": {},
   "outputs": [
    {
     "name": "stdout",
     "output_type": "stream",
     "text": [
      "3838380\n"
     ]
    }
   ],
   "source": [
    "# 力扣77 组合\n",
    "# 给定两个整数 n 和 k，返回范围 [1, n] 中所有可能的 k 个数的组合。\n",
    "# n = int(input())\n",
    "# k = int(input())\n",
    "n = 40\n",
    "k = 6\n",
    "# 回溯算法相当于递归里嵌套着for循环\n",
    "\n",
    "# 定义一个一维数组、一个二维数组，存放结果\n",
    "result = []\n",
    "path = []\n",
    "def backtracking(n, k, startindex):\n",
    "# 回溯三部曲\n",
    "# 1.确定递归函数的参数和返回值,首先肯定有一个数组对象，再是k值,还有startindex\n",
    "# 2.确定终止条件\n",
    "    if len(path) == k:\n",
    "        result.append(path.copy())\n",
    "        return\n",
    "    if len(path) > k:\n",
    "        return  \n",
    "# 3.单层递归逻辑\n",
    "    for i in range(startindex, n+1):\n",
    "        path.append(i)\n",
    "        backtracking(n, k, i+1)\n",
    "        path.pop()\n",
    "backtracking(n, k, 1)\n",
    "print(len(result))"
   ]
  },
  {
   "cell_type": "code",
   "execution_count": 40,
   "metadata": {},
   "outputs": [
    {
     "name": "stdout",
     "output_type": "stream",
     "text": [
      "3838380\n"
     ]
    }
   ],
   "source": [
    "class Solution:\n",
    "    def combine(self, n: int, k: int):\n",
    "        res = []\n",
    "        self.back(n, k, 1, [], res)\n",
    "        return res\n",
    "    \n",
    "    def back(self, n, k, idx, path, res):\n",
    "        if len(path) == k:\n",
    "            res.append(path)\n",
    "            return\n",
    "        if len(path) > k:\n",
    "            return\n",
    "        for i in range(idx, n+1):\n",
    "            self.back(n, k, i+1, path+[i], res)\n",
    "n = 40\n",
    "k = 6\n",
    "ob = Solution()\n",
    "print(len(ob.combine(n,k)))"
   ]
  },
  {
   "cell_type": "code",
   "execution_count": 2,
   "metadata": {},
   "outputs": [
    {
     "name": "stdout",
     "output_type": "stream",
     "text": [
      "[[2, 2, 3], [3, 4], [7]]\n"
     ]
    }
   ],
   "source": [
    "# 力扣39，组合总和\n",
    "# 从列表中找任意个数，其和等于目标值，\n",
    "candidates = [2,3,6,7,4]\n",
    "target = 7\n",
    "\n",
    "path = []\n",
    "result = []\n",
    "# 回溯，在for循环中嵌套递归\n",
    "def backtracking(nums, target, startindex):\n",
    "    # 1.确定参数，数组，startindex，\n",
    "    # 2.确定终止条件和收获返回值\n",
    "    if sum(path) > target:\n",
    "        return\n",
    "    if sum(path) == target:\n",
    "        result.append(path.copy())\n",
    "        return\n",
    "\n",
    "    # 3.确定单层逻辑\n",
    "    for i in range(startindex, len(nums)):\n",
    "        path.append(nums[i])\n",
    "        backtracking(nums, target, i)\n",
    "        path.pop()\n",
    "\n",
    "backtracking(candidates, 7, 0)\n",
    "print(result)\n",
    "        \n"
   ]
  },
  {
   "cell_type": "code",
   "execution_count": null,
   "metadata": {},
   "outputs": [],
   "source": []
  }
 ],
 "metadata": {
  "interpreter": {
   "hash": "3d9ed8596bff362bc93aede9b581c6e6e04e4e735564027361e0f5a7bf7c1a68"
  },
  "kernelspec": {
   "display_name": "Python 3.9.7 ('base')",
   "language": "python",
   "name": "python3"
  },
  "language_info": {
   "codemirror_mode": {
    "name": "ipython",
    "version": 3
   },
   "file_extension": ".py",
   "mimetype": "text/x-python",
   "name": "python",
   "nbconvert_exporter": "python",
   "pygments_lexer": "ipython3",
   "version": "3.9.7"
  },
  "orig_nbformat": 4
 },
 "nbformat": 4,
 "nbformat_minor": 2
}
