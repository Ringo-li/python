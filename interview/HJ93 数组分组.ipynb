{
 "cells": [
  {
   "cell_type": "code",
   "execution_count": 7,
   "metadata": {},
   "outputs": [
    {
     "name": "stdout",
     "output_type": "stream",
     "text": [
      "false\n"
     ]
    }
   ],
   "source": [
    "n = int(input())\n",
    "nlst = list(map(int, input().split()))\n",
    "flst = []\n",
    "tlst = []\n",
    "olst = []\n",
    "for i in nlst:\n",
    "    if i%5 == 0:\n",
    "        flst.append(i)\n",
    "    elif i%3 == 0 and i%5 != 0:\n",
    "        tlst.append(i)\n",
    "    else:\n",
    "        olst.append(i)\n",
    "# print(olst, tlst, flst)\n",
    "def increase(tsum, fsum, olst):\n",
    "    if len(olst) == 0:\n",
    "        if tsum == fsum: \n",
    "            return True\n",
    "    else:\n",
    "        return increase(tsum+olst[0], fsum, olst[1:]) or increase(tsum, fsum+olst[0], olst[1:])\n",
    "if increase(sum(tlst), sum(flst), olst):\n",
    "    print('true')\n",
    "else:\n",
    "    print('false')\n",
    "\n"
   ]
  },
  {
   "cell_type": "code",
   "execution_count": 16,
   "metadata": {},
   "outputs": [
    {
     "name": "stdout",
     "output_type": "stream",
     "text": [
      "(1,)\n",
      "(2,)\n",
      "(3,)\n",
      "(1, 2)\n",
      "(1, 3)\n",
      "(2, 3)\n"
     ]
    }
   ],
   "source": [
    "import itertools\n",
    "lst = [1,2,3]\n",
    "for i in range(1,len(lst)):\n",
    "    a = itertools.combinations(lst, i)\n",
    "    for i in a :\n",
    "        print(i)"
   ]
  },
  {
   "cell_type": "code",
   "execution_count": null,
   "metadata": {},
   "outputs": [],
   "source": []
  }
 ],
 "metadata": {
  "interpreter": {
   "hash": "d88d2ab4b117b0fdfaf0671a13b7bc38b2644f22022f721cb95296f6931d23b1"
  },
  "kernelspec": {
   "display_name": "Python 3.9.7 ('base')",
   "language": "python",
   "name": "python3"
  },
  "language_info": {
   "codemirror_mode": {
    "name": "ipython",
    "version": 3
   },
   "file_extension": ".py",
   "mimetype": "text/x-python",
   "name": "python",
   "nbconvert_exporter": "python",
   "pygments_lexer": "ipython3",
   "version": "3.9.7"
  },
  "orig_nbformat": 4
 },
 "nbformat": 4,
 "nbformat_minor": 2
}
